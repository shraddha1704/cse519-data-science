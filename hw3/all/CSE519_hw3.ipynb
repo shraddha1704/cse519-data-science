{
 "cells": [
  {
   "cell_type": "code",
   "execution_count": 1,
   "metadata": {
    "colab": {
     "base_uri": "https://localhost:8080/",
     "height": 52
    },
    "colab_type": "code",
    "id": "F328lLiE_bn4",
    "outputId": "ec8a4c44-2c5d-437f-cc5c-652288b3f05c"
   },
   "outputs": [
    {
     "name": "stderr",
     "output_type": "stream",
     "text": [
      "/usr/lib/python3.7/site-packages/matplotlib/__init__.py:846: MatplotlibDeprecationWarning: \n",
      "The text.latex.unicode rcparam was deprecated in Matplotlib 2.2 and will be removed in 3.1.\n",
      "  \"2.2\", name=key, obj_type=\"rcparam\", addendum=addendum)\n",
      "/usr/lib/python3.7/site-packages/matplotlib/__init__.py:855: MatplotlibDeprecationWarning: \n",
      "examples.directory is deprecated; in the future, examples will be found relative to the 'datapath' directory.\n",
      "  \"found relative to the 'datapath' directory.\".format(key))\n",
      "/usr/lib/python3.7/site-packages/seaborn/apionly.py:9: UserWarning: As seaborn no longer sets a default style on import, the seaborn.apionly module is deprecated. It will be removed in a future version.\n",
      "  warnings.warn(msg, UserWarning)\n"
     ]
    }
   ],
   "source": [
    "import pandas as pd\n",
    "import numpy as np\n",
    "from pandas.io.json import json_normalize\n",
    "import json\n",
    "import seaborn.apionly as sns\n",
    "import matplotlib.pyplot as plt"
   ]
  },
  {
   "cell_type": "markdown",
   "metadata": {
    "colab_type": "text",
    "id": "uspppMuWHtak"
   },
   "source": [
    "##1. Take a look at the training data. There may be anomalies in the data that you may need to factor in before you start on the other tasks. Make a note of the anomalies that you notice. Clean the data first to handle these issues. Explain what you did to clean the data (in bulleted form). (10 points)"
   ]
  },
  {
   "cell_type": "code",
   "execution_count": 2,
   "metadata": {
    "colab": {
     "base_uri": "https://localhost:8080/",
     "height": 467
    },
    "colab_type": "code",
    "id": "TOrQ6mEjkt6o",
    "outputId": "4e0d8dba-0400-4c1d-e903-fece6768d47e"
   },
   "outputs": [
    {
     "data": {
      "text/html": [
       "<div>\n",
       "<style scoped>\n",
       "    .dataframe tbody tr th:only-of-type {\n",
       "        vertical-align: middle;\n",
       "    }\n",
       "\n",
       "    .dataframe tbody tr th {\n",
       "        vertical-align: top;\n",
       "    }\n",
       "\n",
       "    .dataframe thead th {\n",
       "        text-align: right;\n",
       "    }\n",
       "</style>\n",
       "<table border=\"1\" class=\"dataframe\">\n",
       "  <thead>\n",
       "    <tr style=\"text-align: right;\">\n",
       "      <th></th>\n",
       "      <th>channelGrouping</th>\n",
       "      <th>date</th>\n",
       "      <th>device</th>\n",
       "      <th>fullVisitorId</th>\n",
       "      <th>geoNetwork</th>\n",
       "      <th>sessionId</th>\n",
       "      <th>socialEngagementType</th>\n",
       "      <th>totals</th>\n",
       "      <th>trafficSource</th>\n",
       "      <th>visitId</th>\n",
       "      <th>visitNumber</th>\n",
       "      <th>visitStartTime</th>\n",
       "    </tr>\n",
       "  </thead>\n",
       "  <tbody>\n",
       "    <tr>\n",
       "      <th>0</th>\n",
       "      <td>Organic Search</td>\n",
       "      <td>20160902</td>\n",
       "      <td>{'browser': 'Chrome', 'browserVersion': 'not a...</td>\n",
       "      <td>1131660440785968503</td>\n",
       "      <td>{'continent': 'Asia', 'subContinent': 'Western...</td>\n",
       "      <td>1131660440785968503_1472830385</td>\n",
       "      <td>Not Socially Engaged</td>\n",
       "      <td>{'visits': '1', 'hits': '1', 'pageviews': '1',...</td>\n",
       "      <td>{'campaign': '(not set)', 'source': 'google', ...</td>\n",
       "      <td>1472830385</td>\n",
       "      <td>1</td>\n",
       "      <td>1472830385</td>\n",
       "    </tr>\n",
       "    <tr>\n",
       "      <th>1</th>\n",
       "      <td>Organic Search</td>\n",
       "      <td>20160902</td>\n",
       "      <td>{'browser': 'Firefox', 'browserVersion': 'not ...</td>\n",
       "      <td>377306020877927890</td>\n",
       "      <td>{'continent': 'Oceania', 'subContinent': 'Aust...</td>\n",
       "      <td>377306020877927890_1472880147</td>\n",
       "      <td>Not Socially Engaged</td>\n",
       "      <td>{'visits': '1', 'hits': '1', 'pageviews': '1',...</td>\n",
       "      <td>{'campaign': '(not set)', 'source': 'google', ...</td>\n",
       "      <td>1472880147</td>\n",
       "      <td>1</td>\n",
       "      <td>1472880147</td>\n",
       "    </tr>\n",
       "    <tr>\n",
       "      <th>2</th>\n",
       "      <td>Organic Search</td>\n",
       "      <td>20160902</td>\n",
       "      <td>{'browser': 'Chrome', 'browserVersion': 'not a...</td>\n",
       "      <td>3895546263509774583</td>\n",
       "      <td>{'continent': 'Europe', 'subContinent': 'South...</td>\n",
       "      <td>3895546263509774583_1472865386</td>\n",
       "      <td>Not Socially Engaged</td>\n",
       "      <td>{'visits': '1', 'hits': '1', 'pageviews': '1',...</td>\n",
       "      <td>{'campaign': '(not set)', 'source': 'google', ...</td>\n",
       "      <td>1472865386</td>\n",
       "      <td>1</td>\n",
       "      <td>1472865386</td>\n",
       "    </tr>\n",
       "    <tr>\n",
       "      <th>3</th>\n",
       "      <td>Organic Search</td>\n",
       "      <td>20160902</td>\n",
       "      <td>{'browser': 'UC Browser', 'browserVersion': 'n...</td>\n",
       "      <td>4763447161404445595</td>\n",
       "      <td>{'continent': 'Asia', 'subContinent': 'Southea...</td>\n",
       "      <td>4763447161404445595_1472881213</td>\n",
       "      <td>Not Socially Engaged</td>\n",
       "      <td>{'visits': '1', 'hits': '1', 'pageviews': '1',...</td>\n",
       "      <td>{'campaign': '(not set)', 'source': 'google', ...</td>\n",
       "      <td>1472881213</td>\n",
       "      <td>1</td>\n",
       "      <td>1472881213</td>\n",
       "    </tr>\n",
       "    <tr>\n",
       "      <th>4</th>\n",
       "      <td>Organic Search</td>\n",
       "      <td>20160902</td>\n",
       "      <td>{'browser': 'Chrome', 'browserVersion': 'not a...</td>\n",
       "      <td>27294437909732085</td>\n",
       "      <td>{'continent': 'Europe', 'subContinent': 'North...</td>\n",
       "      <td>27294437909732085_1472822600</td>\n",
       "      <td>Not Socially Engaged</td>\n",
       "      <td>{'visits': '1', 'hits': '1', 'pageviews': '1',...</td>\n",
       "      <td>{'campaign': '(not set)', 'source': 'google', ...</td>\n",
       "      <td>1472822600</td>\n",
       "      <td>2</td>\n",
       "      <td>1472822600</td>\n",
       "    </tr>\n",
       "  </tbody>\n",
       "</table>\n",
       "</div>"
      ],
      "text/plain": [
       "  channelGrouping      date  \\\n",
       "0  Organic Search  20160902   \n",
       "1  Organic Search  20160902   \n",
       "2  Organic Search  20160902   \n",
       "3  Organic Search  20160902   \n",
       "4  Organic Search  20160902   \n",
       "\n",
       "                                              device        fullVisitorId  \\\n",
       "0  {'browser': 'Chrome', 'browserVersion': 'not a...  1131660440785968503   \n",
       "1  {'browser': 'Firefox', 'browserVersion': 'not ...   377306020877927890   \n",
       "2  {'browser': 'Chrome', 'browserVersion': 'not a...  3895546263509774583   \n",
       "3  {'browser': 'UC Browser', 'browserVersion': 'n...  4763447161404445595   \n",
       "4  {'browser': 'Chrome', 'browserVersion': 'not a...    27294437909732085   \n",
       "\n",
       "                                          geoNetwork  \\\n",
       "0  {'continent': 'Asia', 'subContinent': 'Western...   \n",
       "1  {'continent': 'Oceania', 'subContinent': 'Aust...   \n",
       "2  {'continent': 'Europe', 'subContinent': 'South...   \n",
       "3  {'continent': 'Asia', 'subContinent': 'Southea...   \n",
       "4  {'continent': 'Europe', 'subContinent': 'North...   \n",
       "\n",
       "                        sessionId  socialEngagementType  \\\n",
       "0  1131660440785968503_1472830385  Not Socially Engaged   \n",
       "1   377306020877927890_1472880147  Not Socially Engaged   \n",
       "2  3895546263509774583_1472865386  Not Socially Engaged   \n",
       "3  4763447161404445595_1472881213  Not Socially Engaged   \n",
       "4    27294437909732085_1472822600  Not Socially Engaged   \n",
       "\n",
       "                                              totals  \\\n",
       "0  {'visits': '1', 'hits': '1', 'pageviews': '1',...   \n",
       "1  {'visits': '1', 'hits': '1', 'pageviews': '1',...   \n",
       "2  {'visits': '1', 'hits': '1', 'pageviews': '1',...   \n",
       "3  {'visits': '1', 'hits': '1', 'pageviews': '1',...   \n",
       "4  {'visits': '1', 'hits': '1', 'pageviews': '1',...   \n",
       "\n",
       "                                       trafficSource     visitId  visitNumber  \\\n",
       "0  {'campaign': '(not set)', 'source': 'google', ...  1472830385            1   \n",
       "1  {'campaign': '(not set)', 'source': 'google', ...  1472880147            1   \n",
       "2  {'campaign': '(not set)', 'source': 'google', ...  1472865386            1   \n",
       "3  {'campaign': '(not set)', 'source': 'google', ...  1472881213            1   \n",
       "4  {'campaign': '(not set)', 'source': 'google', ...  1472822600            2   \n",
       "\n",
       "   visitStartTime  \n",
       "0      1472830385  \n",
       "1      1472880147  \n",
       "2      1472865386  \n",
       "3      1472881213  \n",
       "4      1472822600  "
      ]
     },
     "execution_count": 2,
     "metadata": {},
     "output_type": "execute_result"
    }
   ],
   "source": [
    "trainData = pd.read_csv('train.csv', converters={column: json.loads for column in [\"device\", \"geoNetwork\", \"totals\", \"trafficSource\"]},dtype={'fullVisitorId': 'str', 'date': 'str', 'visitId': 'str'})\n",
    "trainData.head()"
   ]
  },
  {
   "cell_type": "code",
   "execution_count": 3,
   "metadata": {
    "colab": {},
    "colab_type": "code",
    "id": "nPlQ5df5kTXX"
   },
   "outputs": [],
   "source": [
    "def norm_json(df):\n",
    "  columns = [\"device\", \"geoNetwork\", \"totals\", \"trafficSource\"]\n",
    "\n",
    "  for col in columns:\n",
    "    trainDataNormalizedColumn = json_normalize(df[col])\n",
    "    trainDataNormalizedColumn.columns = [ '{}.{}'.format(col, subcol) for subcol in trainDataNormalizedColumn.columns ]\n",
    "    df.drop(col, axis=1, inplace=True)\n",
    "    df = df.merge(trainDataNormalizedColumn, right_index=True, left_index=True)\n",
    "  return df"
   ]
  },
  {
   "cell_type": "code",
   "execution_count": 4,
   "metadata": {
    "colab": {},
    "colab_type": "code",
    "id": "ZWOhNc6qn1ZN"
   },
   "outputs": [],
   "source": [
    "def drop_nunique_cols(df):\n",
    "  df = df.loc[:,df.nunique(dropna=False) != 1]\n",
    "  df.fillna(0, inplace = True)\n",
    "  return df"
   ]
  },
  {
   "cell_type": "code",
   "execution_count": 5,
   "metadata": {
    "colab": {},
    "colab_type": "code",
    "id": "M48lwn4UDCbL"
   },
   "outputs": [],
   "source": [
    "# trainData['totals.transactionRevenue'] = trainData['totals.transactionRevenue'].astype('float')\n",
    "def convert_type(df):\n",
    "  dtypeMap = {\n",
    "      \"totals.transactionRevenue\": 'float64',\n",
    "      \"totals.bounces\": 'int64',\n",
    "      \"totals.newVisits\": 'int64',\n",
    "      \"trafficSource.adwordsClickInfo.isVideoAd\": 'int64',\n",
    "      \"trafficSource.isTrueDirect\": 'int64',\n",
    "      \"totals.hits\": 'int64',\n",
    "      \"totals.pageviews\": 'int64',\n",
    "      \"date\": \"str\"\n",
    "  }\n",
    "\n",
    "  for col in df.columns:\n",
    "    if col in dtypeMap:\n",
    "      conv = dtypeMap[col]\n",
    "\n",
    "      df[col] = df[col].astype(conv)\n",
    "      \n",
    "  return df\n",
    "    "
   ]
  },
  {
   "cell_type": "code",
   "execution_count": 6,
   "metadata": {
    "colab": {},
    "colab_type": "code",
    "id": "wp2BsB43oOTN"
   },
   "outputs": [],
   "source": [
    "def clean_data(df):\n",
    "  df1 = norm_json(df)\n",
    "  df2 = drop_nunique_cols(df1)\n",
    "  df3 = convert_type(df2)\n",
    "  return df3"
   ]
  },
  {
   "cell_type": "code",
   "execution_count": 7,
   "metadata": {
    "colab": {},
    "colab_type": "code",
    "id": "gKMq6rSUofEn"
   },
   "outputs": [
    {
     "name": "stderr",
     "output_type": "stream",
     "text": [
      "/usr/lib/python3.7/site-packages/pandas/core/frame.py:3790: SettingWithCopyWarning: \n",
      "A value is trying to be set on a copy of a slice from a DataFrame\n",
      "\n",
      "See the caveats in the documentation: http://pandas.pydata.org/pandas-docs/stable/indexing.html#indexing-view-versus-copy\n",
      "  downcast=downcast, **kwargs)\n",
      "/usr/lib/python3.7/site-packages/ipykernel_launcher.py:18: SettingWithCopyWarning: \n",
      "A value is trying to be set on a copy of a slice from a DataFrame.\n",
      "Try using .loc[row_indexer,col_indexer] = value instead\n",
      "\n",
      "See the caveats in the documentation: http://pandas.pydata.org/pandas-docs/stable/indexing.html#indexing-view-versus-copy\n"
     ]
    }
   ],
   "source": [
    "trainData = clean_data(trainData)\n",
    "trainData.drop(['trafficSource.campaignCode'], inplace=True, axis=1)\n",
    "# trainData.head()"
   ]
  },
  {
   "cell_type": "markdown",
   "metadata": {
    "colab_type": "text",
    "id": "HZPMFsvlIFYB"
   },
   "source": [
    "2. Generate a heatmap and two other plots (with a subset of variables) visualizing interesting positive and negative correlations. Explain the reason for your choice for these variables and any interesting results associated with them."
   ]
  },
  {
   "cell_type": "code",
   "execution_count": 8,
   "metadata": {
    "colab": {
     "base_uri": "https://localhost:8080/",
     "height": 481
    },
    "colab_type": "code",
    "id": "ERpP1IeRfHHI",
    "outputId": "63f8c798-6ec3-48d6-85d9-f4b9edc931af"
   },
   "outputs": [
    {
     "data": {
      "text/plain": [
       "<matplotlib.axes._subplots.AxesSubplot at 0x7f9472e13be0>"
      ]
     },
     "execution_count": 8,
     "metadata": {},
     "output_type": "execute_result"
    },
    {
     "data": {
      "image/png": "[encoded data removed]",
      "text/plain": [
       "<Figure size 432x288 with 2 Axes>"
      ]
     },
     "metadata": {
      "needs_background": "light"
     },
     "output_type": "display_data"
    }
   ],
   "source": [
    "corr = trainData.corr()\n",
    "\n",
    "sns.heatmap(corr)"
   ]
  },
  {
   "cell_type": "code",
   "execution_count": 9,
   "metadata": {
    "colab": {},
    "colab_type": "code",
    "id": "76gBwpRvNC07"
   },
   "outputs": [],
   "source": [
    "def add_date_feature(df):\n",
    "  df[\"date\"] = df[\"date\"].apply(lambda x : x[:4] + \"-\" + x[4:6] + \"-\" + x[6:])\n",
    "  df['date'] =  pd.to_datetime(df['date'])\n",
    "  df['visitStartTime'] = pd.to_datetime(df['visitStartTime'], unit='s')\n",
    "  df['year'] = df['visitStartTime'].apply(lambda x: x.year)\n",
    "  df['month'] = df['visitStartTime'].apply(lambda x: x.month)\n",
    "  df['day'] = df['visitStartTime'].apply(lambda x: x.day)\n",
    "  df['hour'] = df['visitStartTime'].apply(lambda x: x.hour)\n",
    "  df['minute'] = df['visitStartTime'].apply(lambda x: x.minute)\n",
    "  df['weekday'] = df['visitStartTime'].apply(lambda x: x.weekday())\n",
    "  \n",
    "  '''\n",
    "  We will group the months into season such that:\n",
    "  Winter -> January, February, December -> 1\n",
    "  Spring -> March, April, May -> 2\n",
    "  Summer -> June, July, August -> 3\n",
    "  Fall -> September, October, November -> 4\n",
    "  '''\n",
    "  df['season'] = df['visitStartTime'].apply(lambda x: (x.month%12 + 3)//3)\n",
    "  df['time_of_day'] = df['visitStartTime'].apply(lambda x: (x.hour%24 + 4)//4)\n",
    "  return df\n",
    "   "
   ]
  },
  {
   "cell_type": "code",
   "execution_count": 10,
   "metadata": {
    "colab": {},
    "colab_type": "code",
    "id": "Oq8tBadiS_L6"
   },
   "outputs": [],
   "source": [
    "def add_unique_user_count(df):\n",
    "  df['user_daily_count'] = df.groupby('day')['fullVisitorId'].transform('nunique')\n",
    "  df['user_monthly_count'] = df.groupby('month')['fullVisitorId'].transform('nunique')\n",
    "  df['user_weekday_count'] = df.groupby('weekday')['fullVisitorId'].transform('nunique')\n",
    "  df['date'] = df['date'].astype('str')\n",
    "  return df"
   ]
  },
  {
   "cell_type": "code",
   "execution_count": 11,
   "metadata": {
    "colab": {},
    "colab_type": "code",
    "id": "M34QrOvMFSU7"
   },
   "outputs": [],
   "source": [
    "def add_device_group(df):\n",
    "  df['browser_isMobile'] = df['device.browser'] + '_' + str(df['device.isMobile'])\n",
    "  df['browser_deviceCat'] = df['device.browser'] + '_' + df['device.deviceCategory']\n",
    "  df['browser_os'] = df['device.browser'] + '_' + df['device.operatingSystem']\n",
    "  return df"
   ]
  },
  {
   "cell_type": "code",
   "execution_count": 12,
   "metadata": {
    "colab": {},
    "colab_type": "code",
    "id": "GoBIvTeOHMTe"
   },
   "outputs": [],
   "source": [
    "def add_log(df):\n",
    "  df['totals.hits'] = np.log1p(df['totals.hits'])\n",
    "  df['totals.pageviews'] = np.log1p(df['totals.pageviews'])\n",
    "  df['visitNumber'] = np.log1p(df['visitNumber'])\n",
    "  return df"
   ]
  },
  {
   "cell_type": "code",
   "execution_count": 13,
   "metadata": {
    "colab": {},
    "colab_type": "code",
    "id": "9p3Q2OraIhcR"
   },
   "outputs": [],
   "source": [
    "def add_totals_group(df):\n",
    "  df['mean_hits_daily'] = df.groupby(['day'])['totals.hits'].transform('mean')\n",
    "  df['total_hits_daily'] = df.groupby(['day'])['totals.hits'].transform('sum')\n",
    "  return df"
   ]
  },
  {
   "cell_type": "code",
   "execution_count": 14,
   "metadata": {
    "colab": {},
    "colab_type": "code",
    "id": "7WCQ7VhPJEmy"
   },
   "outputs": [],
   "source": [
    "def add_geo_group(df):\n",
    "  df['sum_pageviews_per_network_domain'] = df.groupby('geoNetwork.networkDomain')['totals.pageviews'].transform('sum')\n",
    "  df['count_pageviews_per_network_domain'] = df.groupby('geoNetwork.networkDomain')['totals.pageviews'].transform('count')\n",
    "  df['mean_pageviews_per_network_domain'] = df.groupby('geoNetwork.networkDomain')['totals.pageviews'].transform('mean')\n",
    "  df['sum_hits_per_network_domain'] = df.groupby('geoNetwork.networkDomain')['totals.hits'].transform('sum')\n",
    "  df['count_hits_per_network_domain'] = df.groupby('geoNetwork.networkDomain')['totals.hits'].transform('count')\n",
    "  df['mean_hits_per_network_domain'] = df.groupby('geoNetwork.networkDomain')['totals.hits'].transform('mean')\n",
    "  df['sum_hits_per_continent'] = df.groupby('geoNetwork.continent')['totals.hits'].transform('sum')\n",
    "  df['count_hits_per_continent'] = df.groupby('geoNetwork.continent')['totals.hits'].transform('count')\n",
    "  df['mean_hits_per_continent'] = df.groupby('geoNetwork.continent')['totals.hits'].transform('mean')\n",
    "  return df"
   ]
  },
  {
   "cell_type": "code",
   "execution_count": 15,
   "metadata": {
    "colab": {},
    "colab_type": "code",
    "id": "ZVvFpm-8HA9u"
   },
   "outputs": [],
   "source": [
    "def add_features(df):\n",
    "  df1 = add_date_feature(df)\n",
    "  df2 = add_unique_user_count(df1)\n",
    "  df3 = add_device_group(df2)\n",
    "  df4 = add_log(df3)\n",
    "  df5 = add_totals_group(df4)\n",
    "  df6 = add_geo_group(df5)\n",
    "  return df"
   ]
  },
  {
   "cell_type": "code",
   "execution_count": 16,
   "metadata": {
    "colab": {
     "base_uri": "https://localhost:8080/",
     "height": 342
    },
    "colab_type": "code",
    "id": "WdNgDRFQKNcW",
    "outputId": "e71045a7-0eba-4fa1-e43e-017027c44453"
   },
   "outputs": [
    {
     "data": {
      "text/html": [
       "<div>\n",
       "<style scoped>\n",
       "    .dataframe tbody tr th:only-of-type {\n",
       "        vertical-align: middle;\n",
       "    }\n",
       "\n",
       "    .dataframe tbody tr th {\n",
       "        vertical-align: top;\n",
       "    }\n",
       "\n",
       "    .dataframe thead th {\n",
       "        text-align: right;\n",
       "    }\n",
       "</style>\n",
       "<table border=\"1\" class=\"dataframe\">\n",
       "  <thead>\n",
       "    <tr style=\"text-align: right;\">\n",
       "      <th></th>\n",
       "      <th>channelGrouping</th>\n",
       "      <th>date</th>\n",
       "      <th>fullVisitorId</th>\n",
       "      <th>sessionId</th>\n",
       "      <th>visitId</th>\n",
       "      <th>visitNumber</th>\n",
       "      <th>visitStartTime</th>\n",
       "      <th>device.browser</th>\n",
       "      <th>device.deviceCategory</th>\n",
       "      <th>device.isMobile</th>\n",
       "      <th>...</th>\n",
       "      <th>total_hits_daily</th>\n",
       "      <th>sum_pageviews_per_network_domain</th>\n",
       "      <th>count_pageviews_per_network_domain</th>\n",
       "      <th>mean_pageviews_per_network_domain</th>\n",
       "      <th>sum_hits_per_network_domain</th>\n",
       "      <th>count_hits_per_network_domain</th>\n",
       "      <th>mean_hits_per_network_domain</th>\n",
       "      <th>sum_hits_per_continent</th>\n",
       "      <th>count_hits_per_continent</th>\n",
       "      <th>mean_hits_per_continent</th>\n",
       "    </tr>\n",
       "  </thead>\n",
       "  <tbody>\n",
       "    <tr>\n",
       "      <th>0</th>\n",
       "      <td>Organic Search</td>\n",
       "      <td>2016-09-02</td>\n",
       "      <td>1131660440785968503</td>\n",
       "      <td>1131660440785968503_1472830385</td>\n",
       "      <td>1472830385</td>\n",
       "      <td>0.693147</td>\n",
       "      <td>2016-09-02 15:33:05</td>\n",
       "      <td>Chrome</td>\n",
       "      <td>desktop</td>\n",
       "      <td>False</td>\n",
       "      <td>...</td>\n",
       "      <td>37418.844215</td>\n",
       "      <td>11495.913306</td>\n",
       "      <td>13228</td>\n",
       "      <td>0.869059</td>\n",
       "      <td>11633.801499</td>\n",
       "      <td>13228</td>\n",
       "      <td>0.879483</td>\n",
       "      <td>233494.279667</td>\n",
       "      <td>223698</td>\n",
       "      <td>1.043792</td>\n",
       "    </tr>\n",
       "    <tr>\n",
       "      <th>1</th>\n",
       "      <td>Organic Search</td>\n",
       "      <td>2016-09-02</td>\n",
       "      <td>377306020877927890</td>\n",
       "      <td>377306020877927890_1472880147</td>\n",
       "      <td>1472880147</td>\n",
       "      <td>0.693147</td>\n",
       "      <td>2016-09-03 05:22:27</td>\n",
       "      <td>Firefox</td>\n",
       "      <td>desktop</td>\n",
       "      <td>False</td>\n",
       "      <td>...</td>\n",
       "      <td>36757.282186</td>\n",
       "      <td>351.537660</td>\n",
       "      <td>318</td>\n",
       "      <td>1.105464</td>\n",
       "      <td>366.001842</td>\n",
       "      <td>318</td>\n",
       "      <td>1.150949</td>\n",
       "      <td>17854.095004</td>\n",
       "      <td>15054</td>\n",
       "      <td>1.186003</td>\n",
       "    </tr>\n",
       "    <tr>\n",
       "      <th>2</th>\n",
       "      <td>Organic Search</td>\n",
       "      <td>2016-09-02</td>\n",
       "      <td>3895546263509774583</td>\n",
       "      <td>3895546263509774583_1472865386</td>\n",
       "      <td>1472865386</td>\n",
       "      <td>0.693147</td>\n",
       "      <td>2016-09-03 01:16:26</td>\n",
       "      <td>Chrome</td>\n",
       "      <td>desktop</td>\n",
       "      <td>False</td>\n",
       "      <td>...</td>\n",
       "      <td>36757.282186</td>\n",
       "      <td>153203.767963</td>\n",
       "      <td>146034</td>\n",
       "      <td>1.049097</td>\n",
       "      <td>158201.063662</td>\n",
       "      <td>146034</td>\n",
       "      <td>1.083317</td>\n",
       "      <td>212150.824560</td>\n",
       "      <td>198311</td>\n",
       "      <td>1.069788</td>\n",
       "    </tr>\n",
       "    <tr>\n",
       "      <th>3</th>\n",
       "      <td>Organic Search</td>\n",
       "      <td>2016-09-02</td>\n",
       "      <td>4763447161404445595</td>\n",
       "      <td>4763447161404445595_1472881213</td>\n",
       "      <td>1472881213</td>\n",
       "      <td>0.693147</td>\n",
       "      <td>2016-09-03 05:40:13</td>\n",
       "      <td>UC Browser</td>\n",
       "      <td>desktop</td>\n",
       "      <td>False</td>\n",
       "      <td>...</td>\n",
       "      <td>36757.282186</td>\n",
       "      <td>153203.767963</td>\n",
       "      <td>146034</td>\n",
       "      <td>1.049097</td>\n",
       "      <td>158201.063662</td>\n",
       "      <td>146034</td>\n",
       "      <td>1.083317</td>\n",
       "      <td>233494.279667</td>\n",
       "      <td>223698</td>\n",
       "      <td>1.043792</td>\n",
       "    </tr>\n",
       "    <tr>\n",
       "      <th>4</th>\n",
       "      <td>Organic Search</td>\n",
       "      <td>2016-09-02</td>\n",
       "      <td>27294437909732085</td>\n",
       "      <td>27294437909732085_1472822600</td>\n",
       "      <td>1472822600</td>\n",
       "      <td>1.098612</td>\n",
       "      <td>2016-09-02 13:23:20</td>\n",
       "      <td>Chrome</td>\n",
       "      <td>mobile</td>\n",
       "      <td>True</td>\n",
       "      <td>...</td>\n",
       "      <td>37418.844215</td>\n",
       "      <td>153203.767963</td>\n",
       "      <td>146034</td>\n",
       "      <td>1.049097</td>\n",
       "      <td>158201.063662</td>\n",
       "      <td>146034</td>\n",
       "      <td>1.083317</td>\n",
       "      <td>212150.824560</td>\n",
       "      <td>198311</td>\n",
       "      <td>1.069788</td>\n",
       "    </tr>\n",
       "  </tbody>\n",
       "</table>\n",
       "<p>5 rows × 60 columns</p>\n",
       "</div>"
      ],
      "text/plain": [
       "  channelGrouping        date        fullVisitorId  \\\n",
       "0  Organic Search  2016-09-02  1131660440785968503   \n",
       "1  Organic Search  2016-09-02   377306020877927890   \n",
       "2  Organic Search  2016-09-02  3895546263509774583   \n",
       "3  Organic Search  2016-09-02  4763447161404445595   \n",
       "4  Organic Search  2016-09-02    27294437909732085   \n",
       "\n",
       "                        sessionId     visitId  visitNumber  \\\n",
       "0  1131660440785968503_1472830385  1472830385     0.693147   \n",
       "1   377306020877927890_1472880147  1472880147     0.693147   \n",
       "2  3895546263509774583_1472865386  1472865386     0.693147   \n",
       "3  4763447161404445595_1472881213  1472881213     0.693147   \n",
       "4    27294437909732085_1472822600  1472822600     1.098612   \n",
       "\n",
       "       visitStartTime device.browser device.deviceCategory  device.isMobile  \\\n",
       "0 2016-09-02 15:33:05         Chrome               desktop            False   \n",
       "1 2016-09-03 05:22:27        Firefox               desktop            False   \n",
       "2 2016-09-03 01:16:26         Chrome               desktop            False   \n",
       "3 2016-09-03 05:40:13     UC Browser               desktop            False   \n",
       "4 2016-09-02 13:23:20         Chrome                mobile             True   \n",
       "\n",
       "            ...            total_hits_daily sum_pageviews_per_network_domain  \\\n",
       "0           ...                37418.844215                     11495.913306   \n",
       "1           ...                36757.282186                       351.537660   \n",
       "2           ...                36757.282186                    153203.767963   \n",
       "3           ...                36757.282186                    153203.767963   \n",
       "4           ...                37418.844215                    153203.767963   \n",
       "\n",
       "  count_pageviews_per_network_domain mean_pageviews_per_network_domain  \\\n",
       "0                              13228                          0.869059   \n",
       "1                                318                          1.105464   \n",
       "2                             146034                          1.049097   \n",
       "3                             146034                          1.049097   \n",
       "4                             146034                          1.049097   \n",
       "\n",
       "  sum_hits_per_network_domain count_hits_per_network_domain  \\\n",
       "0                11633.801499                         13228   \n",
       "1                  366.001842                           318   \n",
       "2               158201.063662                        146034   \n",
       "3               158201.063662                        146034   \n",
       "4               158201.063662                        146034   \n",
       "\n",
       "  mean_hits_per_network_domain sum_hits_per_continent  \\\n",
       "0                     0.879483          233494.279667   \n",
       "1                     1.150949           17854.095004   \n",
       "2                     1.083317          212150.824560   \n",
       "3                     1.083317          233494.279667   \n",
       "4                     1.083317          212150.824560   \n",
       "\n",
       "   count_hits_per_continent  mean_hits_per_continent  \n",
       "0                    223698                 1.043792  \n",
       "1                     15054                 1.186003  \n",
       "2                    198311                 1.069788  \n",
       "3                    223698                 1.043792  \n",
       "4                    198311                 1.069788  \n",
       "\n",
       "[5 rows x 60 columns]"
      ]
     },
     "execution_count": 16,
     "metadata": {},
     "output_type": "execute_result"
    }
   ],
   "source": [
    "trainData = add_features(trainData)\n",
    "trainData.head()"
   ]
  },
  {
   "cell_type": "code",
   "execution_count": 17,
   "metadata": {
    "colab": {},
    "colab_type": "code",
    "id": "VavjYJPutkt1"
   },
   "outputs": [],
   "source": [
    "# def add_onehotenc(df, colName):\n",
    "#   df = pd.concat([df,pd.get_dummies(df[colName], prefix=colName)],axis=1)\n",
    "\n",
    "#   df.drop([colName],axis=1, inplace=True)\n",
    "#   return df"
   ]
  },
  {
   "cell_type": "code",
   "execution_count": 18,
   "metadata": {
    "colab": {},
    "colab_type": "code",
    "id": "jK81EeM4v3SV"
   },
   "outputs": [],
   "source": [
    "# trainData = add_onehotenc(trainData, 'device.deviceCategory')\n",
    "# trainData.head()"
   ]
  },
  {
   "cell_type": "code",
   "execution_count": 19,
   "metadata": {
    "colab": {},
    "colab_type": "code",
    "id": "nwxpJ5-47jLB"
   },
   "outputs": [],
   "source": [
    "browserList = {}\n",
    "for i in range(len(trainData)):\n",
    "  if trainData['device.browser'][i] not in browserList:\n",
    "    browserList[trainData['device.browser'][i]] = 0  \n",
    "  browserList[trainData['device.browser'][i]] += trainData['totals.transactionRevenue'][i]\n",
    "impBrowsers = []\n",
    "for key, value in reversed(sorted(browserList.items(), key=lambda x: x[1])):\n",
    "  if value > 20000000.0:\n",
    "    impBrowsers.append(key)"
   ]
  },
  {
   "cell_type": "code",
   "execution_count": 20,
   "metadata": {
    "colab": {},
    "colab_type": "code",
    "id": "kUT0ooOtE44l"
   },
   "outputs": [],
   "source": [
    "osList = {}\n",
    "for i in range(len(trainData)):\n",
    "  if trainData['device.operatingSystem'][i] not in osList:\n",
    "    osList[trainData['device.operatingSystem'][i]] = 0  \n",
    "  osList[trainData['device.operatingSystem'][i]] += trainData['totals.transactionRevenue'][i]\n",
    "impOs = []\n",
    "for key, value in reversed(sorted(osList.items(), key=lambda x: x[1])): \n",
    "  if value > 20000000.0:\n",
    "    impOs.append(key)"
   ]
  },
  {
   "cell_type": "code",
   "execution_count": 21,
   "metadata": {
    "colab": {
     "base_uri": "https://localhost:8080/",
     "height": 34
    },
    "colab_type": "code",
    "id": "Q3KQR5uRMh__",
    "outputId": "db8baf7a-67fb-4695-fbf3-d9a793b12c5b"
   },
   "outputs": [
    {
     "data": {
      "text/plain": [
       "(889859, 890177, 903653)"
      ]
     },
     "execution_count": 21,
     "metadata": {},
     "output_type": "execute_result"
    }
   ],
   "source": [
    "df1 = trainData.loc[trainData['device.browser'].isin(impBrowsers)]\n",
    "df2 = df1.loc[df1['device.operatingSystem'].isin(impOs)]\n",
    "len(df2), len(df1), len(trainData)"
   ]
  },
  {
   "cell_type": "code",
   "execution_count": 22,
   "metadata": {
    "colab": {
     "base_uri": "https://localhost:8080/",
     "height": 512
    },
    "colab_type": "code",
    "id": "iMDdnwY6BcLd",
    "outputId": "aa7a395f-f751-4ecc-d504-2aa64a1212ec"
   },
   "outputs": [
    {
     "data": {
      "image/png": "[encoded data removed]",
      "text/plain": [
       "<Figure size 432x288 with 2 Axes>"
      ]
     },
     "metadata": {
      "needs_background": "light"
     },
     "output_type": "display_data"
    },
    {
     "data": {
      "text/plain": [
       "<Figure size 2880x2880 with 0 Axes>"
      ]
     },
     "metadata": {},
     "output_type": "display_data"
    }
   ],
   "source": [
    "piv = pd.pivot_table(df2, values=['totals.transactionRevenue'],index=[\"device.operatingSystem\"], columns=[\"device.browser\"])\n",
    "ax = sns.heatmap(piv)\n",
    "plt.figure(figsize=(40,40))\n",
    "plt.show()"
   ]
  },
  {
   "cell_type": "code",
   "execution_count": 23,
   "metadata": {
    "colab": {
     "base_uri": "https://localhost:8080/",
     "height": 307
    },
    "colab_type": "code",
    "id": "uEYBMh0qezaR",
    "outputId": "04145e8b-dcb6-4232-b7a5-0309ff0477a9"
   },
   "outputs": [
    {
     "data": {
      "text/plain": [
       "Text(0, 0.5, 'transaction revenue')"
      ]
     },
     "execution_count": 23,
     "metadata": {},
     "output_type": "execute_result"
    },
    {
     "data": {
      "image/png": "[encoded data removed]",
      "text/plain": [
       "<Figure size 432x288 with 1 Axes>"
      ]
     },
     "metadata": {
      "needs_background": "light"
     },
     "output_type": "display_data"
    }
   ],
   "source": [
    "plt.scatter(df2['totals.hits'], df2['totals.transactionRevenue'])\n",
    "plt.xlabel('total hits')\n",
    "plt.ylabel('transaction revenue')"
   ]
  },
  {
   "cell_type": "code",
   "execution_count": 24,
   "metadata": {
    "colab": {
     "base_uri": "https://localhost:8080/",
     "height": 307
    },
    "colab_type": "code",
    "id": "QPTRB5g_nmAK",
    "outputId": "1530e96f-2de0-4ea9-bd71-8f547f88fe7d"
   },
   "outputs": [
    {
     "data": {
      "text/plain": [
       "Text(0, 0.5, 'Total Transaction Revenue')"
      ]
     },
     "execution_count": 24,
     "metadata": {},
     "output_type": "execute_result"
    },
    {
     "data": {
      "image/png": "[encoded data removed]",
      "text/plain": [
       "<Figure size 432x288 with 1 Axes>"
      ]
     },
     "metadata": {
      "needs_background": "light"
     },
     "output_type": "display_data"
    }
   ],
   "source": [
    "'''\n",
    "  We will group the months into season such that:\n",
    "  Winter -> January, February, December -> 1\n",
    "  Spring -> March, April, May -> 2\n",
    "  Summer -> June, July, August -> 3\n",
    "  Fall -> September, October, November -> 4\n",
    "  '''\n",
    "seasons = []\n",
    "rev_per_season = []\n",
    "\n",
    "for i in range(1, 5, 1):\n",
    "    seasons.append(i)\n",
    "    rev_per_season.append(trainData.loc[(trainData['season'] == i ), 'totals.transactionRevenue'].sum())\n",
    "\n",
    "plt.plot(seasons, rev_per_season)\n",
    "plt.xlabel('Season of year')\n",
    "plt.ylabel('Total Transaction Revenue')"
   ]
  },
  {
   "cell_type": "code",
   "execution_count": 25,
   "metadata": {
    "colab": {
     "base_uri": "https://localhost:8080/",
     "height": 307
    },
    "colab_type": "code",
    "id": "ZYHjmAyKo4IS",
    "outputId": "f2cfede2-7092-40de-c30a-ab880d8519af"
   },
   "outputs": [
    {
     "data": {
      "text/plain": [
       "Text(0, 0.5, 'Total Transaction Revenue')"
      ]
     },
     "execution_count": 25,
     "metadata": {},
     "output_type": "execute_result"
    },
    {
     "data": {
      "image/png": "[encoded data removed]",
      "text/plain": [
       "<Figure size 432x288 with 1 Axes>"
      ]
     },
     "metadata": {
      "needs_background": "light"
     },
     "output_type": "display_data"
    }
   ],
   "source": [
    "months = []\n",
    "fare_per_month = []\n",
    "\n",
    "for i in range(1, 13, 1):\n",
    "    months.append(i)\n",
    "    fare_per_month.append(trainData.loc[(trainData['month'] == i ), 'totals.transactionRevenue'].sum())\n",
    "\n",
    "\n",
    "plt.plot(months, fare_per_month)\n",
    "plt.xlabel('Month of year')\n",
    "plt.ylabel('Total Transaction Revenue')"
   ]
  },
  {
   "cell_type": "code",
   "execution_count": 26,
   "metadata": {},
   "outputs": [
    {
     "data": {
      "text/plain": [
       "Text(0, 0.5, 'Total Transaction Revenue')"
      ]
     },
     "execution_count": 26,
     "metadata": {},
     "output_type": "execute_result"
    },
    {
     "data": {
      "image/png": "[encoded data removed]",
      "text/plain": [
       "<Figure size 432x288 with 1 Axes>"
      ]
     },
     "metadata": {
      "needs_background": "light"
     },
     "output_type": "display_data"
    }
   ],
   "source": [
    "time = ['0-3','4-7','8-11','12-15','16-19','20-23']\n",
    "rev_per_time = []\n",
    "\n",
    "for i in range(1, 7, 1):\n",
    "#     time.append(i)\n",
    "    rev_per_time.append(trainData.loc[(trainData['time_of_day'] == i ), 'totals.transactionRevenue'].sum())\n",
    "\n",
    "\n",
    "plt.plot(time, rev_per_time)\n",
    "plt.xlabel('Time of day')\n",
    "plt.ylabel('Total Transaction Revenue')"
   ]
  },
  {
   "cell_type": "markdown",
   "metadata": {
    "colab_type": "text",
    "id": "owOasneWxblO"
   },
   "source": [
    "3. Cluster the data based on geographic information available with a subset of variables that you find relevant.  Include a visualization plot.  Describe your inferences from the clustering and discuss their significance."
   ]
  },
  {
   "cell_type": "code",
   "execution_count": 27,
   "metadata": {
    "colab": {
     "base_uri": "https://localhost:8080/",
     "height": 491
    },
    "colab_type": "code",
    "id": "XW7QiNsKyV2K",
    "outputId": "6c356f0f-709d-4c01-c90e-130cb3157c80"
   },
   "outputs": [
    {
     "name": "stderr",
     "output_type": "stream",
     "text": [
      "/usr/lib/python3.7/site-packages/ipykernel_launcher.py:2: SettingWithCopyWarning: \n",
      "A value is trying to be set on a copy of a slice from a DataFrame.\n",
      "Try using .loc[row_indexer,col_indexer] = value instead\n",
      "\n",
      "See the caveats in the documentation: http://pandas.pydata.org/pandas-docs/stable/indexing.html#indexing-view-versus-copy\n",
      "  \n"
     ]
    },
    {
     "data": {
      "text/plain": [
       "<seaborn.axisgrid.FacetGrid at 0x7f95b273cef0>"
      ]
     },
     "execution_count": 27,
     "metadata": {},
     "output_type": "execute_result"
    },
    {
     "data": {
      "image/png": "[encoded data removed]",
      "text/plain": [
       "<Figure size 360x360 with 1 Axes>"
      ]
     },
     "metadata": {
      "needs_background": "light"
     },
     "output_type": "display_data"
    }
   ],
   "source": [
    "df1 = trainData[trainData['totals.transactionRevenue'] > 0.0]\n",
    "df1['totals.transactionRevenue'] = np.log1p(trainData['totals.transactionRevenue'])\n",
    "sns.catplot(x=\"geoNetwork.continent\", y=\"totals.transactionRevenue\", data=df1)"
   ]
  },
  {
   "cell_type": "code",
   "execution_count": 28,
   "metadata": {
    "colab": {
     "base_uri": "https://localhost:8080/",
     "height": 286
    },
    "colab_type": "code",
    "id": "M7EhcHxF5Rtc",
    "outputId": "e939cbc5-86c0-429c-e91b-680e9aa7aad5"
   },
   "outputs": [
    {
     "data": {
      "text/plain": [
       "<BarContainer object of 6 artists>"
      ]
     },
     "execution_count": 28,
     "metadata": {},
     "output_type": "execute_result"
    },
    {
     "data": {
      "image/png": "[encoded data removed]",
      "text/plain": [
       "<Figure size 432x288 with 1 Axes>"
      ]
     },
     "metadata": {
      "needs_background": "light"
     },
     "output_type": "display_data"
    }
   ],
   "source": [
    "tdContinent = trainData.groupby('geoNetwork.continent')['totals.hits'].agg(['count', 'size'])\n",
    "plt.bar(tdContinent.index, tdContinent['size'].values)"
   ]
  },
  {
   "cell_type": "code",
   "execution_count": 29,
   "metadata": {
    "colab": {
     "base_uri": "https://localhost:8080/",
     "height": 286
    },
    "colab_type": "code",
    "id": "9dV76ITs7nW3",
    "outputId": "c50a0d75-3323-4c4e-9e07-fd75a9c66975"
   },
   "outputs": [
    {
     "data": {
      "text/plain": [
       "<BarContainer object of 6 artists>"
      ]
     },
     "execution_count": 29,
     "metadata": {},
     "output_type": "execute_result"
    },
    {
     "data": {
      "image/png": "[encoded data removed]",
      "text/plain": [
       "<Figure size 432x288 with 1 Axes>"
      ]
     },
     "metadata": {
      "needs_background": "light"
     },
     "output_type": "display_data"
    }
   ],
   "source": [
    "tdContinent = trainData.groupby('geoNetwork.continent')['totals.pageviews'].agg(['count', 'size'])\n",
    "plt.bar(tdContinent.index, tdContinent['size'].values)"
   ]
  },
  {
   "cell_type": "code",
   "execution_count": 30,
   "metadata": {
    "colab": {
     "base_uri": "https://localhost:8080/",
     "height": 503
    },
    "colab_type": "code",
    "id": "38EE97Be9Fsa",
    "outputId": "db2ebc32-05d2-432f-e487-e7f83a645a77"
   },
   "outputs": [
    {
     "data": {
      "text/plain": [
       "<BarContainer object of 4 artists>"
      ]
     },
     "execution_count": 30,
     "metadata": {},
     "output_type": "execute_result"
    },
    {
     "data": {
      "image/png": "[encoded data removed]",
      "text/plain": [
       "<Figure size 1440x576 with 1 Axes>"
      ]
     },
     "metadata": {
      "needs_background": "light"
     },
     "output_type": "display_data"
    }
   ],
   "source": [
    "df1 = trainData[trainData['geoNetwork.continent'] == 'Americas']\n",
    "tdContinent = df1.groupby('geoNetwork.subContinent')['totals.transactionRevenue'].agg(['count', 'size'])\n",
    "plt.figure(figsize=(20,8))\n",
    "plt.bar(tdContinent.index, tdContinent['size'].values)"
   ]
  },
  {
   "cell_type": "markdown",
   "metadata": {
    "colab_type": "text",
    "id": "W_18lVpI0bOn"
   },
   "source": [
    "4. Define a buying score or probability function for each user, which predicts the likelihood of a user buying a product from the GStore. Rank the ten most likely users as who will buy a product from the store.  Does it seem that you that it produces good results?  Report why or why not."
   ]
  },
  {
   "cell_type": "code",
   "execution_count": 31,
   "metadata": {
    "colab": {},
    "colab_type": "code",
    "id": "5pQcfI0-0emg"
   },
   "outputs": [],
   "source": [
    "td1 = trainData[trainData['totals.transactionRevenue'] > 0.0]\n",
    "td1 = td1[td1['totals.hits'] > 0.0]\n",
    "continentScore = {\n",
    "    'Americas': 6,\n",
    "    'Asia': 5,\n",
    "    'Europe': 4,\n",
    "    'Oceania': 3,\n",
    "    'Africa': 2,\n",
    "    '(not set)': 1\n",
    "}\n",
    "dateScore = {\n",
    "    2016: 1,\n",
    "    2017: 2\n",
    "}\n",
    "users = td1['fullVisitorId'].unique()\n",
    "users\n",
    "userScore = {}\n",
    "for i in range(len(users)):\n",
    "  contScore = sum(map(continentScore.get, td1.loc[td1['fullVisitorId'] == users[i], 'geoNetwork.continent'].tolist()))\n",
    "  dScore = sum(map(dateScore.get, td1.loc[td1['fullVisitorId'] == users[i], 'year'].tolist()))\n",
    "  userScore[users[i]] = 0.6 * ((td1.loc[td1['fullVisitorId'] == users[i], 'totals.transactionRevenue'].sum()) // (td1.loc[td1['fullVisitorId'] == users[i], 'totals.hits'].sum())) + 0.3 * (contScore) + 0.1 * (dScore)\n"
   ]
  },
  {
   "cell_type": "code",
   "execution_count": 32,
   "metadata": {
    "colab": {},
    "colab_type": "code",
    "id": "7Ax0DdYlFUM2"
   },
   "outputs": [],
   "source": [
    "topUsers = sorted(userScore, key = userScore.get, reverse = True)"
   ]
  },
  {
   "cell_type": "code",
   "execution_count": 33,
   "metadata": {
    "colab": {
     "base_uri": "https://localhost:8080/",
     "height": 191
    },
    "colab_type": "code",
    "id": "RtRvaSNNMtvH",
    "outputId": "532eabf3-5c20-4409-9665-e1d9c1bc1c40"
   },
   "outputs": [
    {
     "data": {
      "text/plain": [
       "['5632276788326171571',\n",
       " '7496147812697146114',\n",
       " '7965265156545901045',\n",
       " '1957458976293878100',\n",
       " '5469079519715865124',\n",
       " '3769632740374536577',\n",
       " '79204932396995037',\n",
       " '4604965471651937146',\n",
       " '4067986469497332117',\n",
       " '9817395183603701442']"
      ]
     },
     "execution_count": 33,
     "metadata": {},
     "output_type": "execute_result"
    }
   ],
   "source": [
    "topUsers[:10]"
   ]
  },
  {
   "cell_type": "markdown",
   "metadata": {
    "colab_type": "text",
    "id": "2oCyrwYdWzpP"
   },
   "source": [
    "5. Identify at least one external data set which you can integrate into your transaction prediction analysis to make it better. Discuss/analyze the extent to which this data helps with the prediction task."
   ]
  },
  {
   "cell_type": "code",
   "execution_count": 34,
   "metadata": {
    "colab": {},
    "colab_type": "code",
    "id": "aGGhVY5TnO-a"
   },
   "outputs": [],
   "source": [
    "def add_gdp(df):\n",
    "    gdpData = pd.read_csv('gdpNew.csv')\n",
    "    df = pd.merge(df, gdpData,  how='left', left_on=['geoNetwork.country'], right_on = ['Country'])\n",
    "    df.drop(['Country'],axis=1,inplace=True)\n",
    "    return df"
   ]
  },
  {
   "cell_type": "code",
   "execution_count": 35,
   "metadata": {},
   "outputs": [],
   "source": [
    "def add_internet(df):\n",
    "    internetData = pd.read_csv('internet.csv')\n",
    "    df = pd.merge(df, internetData,  how='left', left_on=['geoNetwork.country'], right_on = ['geoNetwork.country'])\n",
    "    return df"
   ]
  },
  {
   "cell_type": "code",
   "execution_count": 36,
   "metadata": {},
   "outputs": [],
   "source": [
    "def add_ext_data(df):\n",
    "    df1 = add_gdp(df)\n",
    "    df2 = add_internet(df1)\n",
    "    return df2"
   ]
  },
  {
   "cell_type": "code",
   "execution_count": 37,
   "metadata": {},
   "outputs": [],
   "source": [
    "trainData = add_ext_data(trainData)"
   ]
  },
  {
   "cell_type": "markdown",
   "metadata": {},
   "source": [
    "6. Finally, build the best prediction model you can to solve the Kaggle task.  Use any data, ideas, and approach that you like. Submit the results of your best models on Kaggle.  Report the rank, score, number of entries, for your highest rank. Include a snapshot of your best score on the leaderboard as confirmation. (20 points)"
   ]
  },
  {
   "cell_type": "code",
   "execution_count": 38,
   "metadata": {},
   "outputs": [],
   "source": [
    "def delete_ids(df):\n",
    "    cols = ['date', 'visitStartTime', 'fullVisitorId', 'sessionId', 'visitId', 'trafficSource.adwordsClickInfo.gclId']\n",
    "    ids = df[cols]\n",
    "    df.drop(cols, axis = 1, inplace=True)\n",
    "    return df, ids"
   ]
  },
  {
   "cell_type": "code",
   "execution_count": 39,
   "metadata": {},
   "outputs": [],
   "source": [
    "oldTrainData = trainData.copy()\n",
    "trainData, trainIds = delete_ids(trainData)"
   ]
  },
  {
   "cell_type": "markdown",
   "metadata": {},
   "source": [
    "GET TEST DATA"
   ]
  },
  {
   "cell_type": "code",
   "execution_count": 40,
   "metadata": {
    "colab": {},
    "colab_type": "code",
    "id": "i4oFAu54szm4"
   },
   "outputs": [],
   "source": [
    "testData = pd.read_csv('test.csv', converters={column: json.loads for column in [\"device\", \"geoNetwork\", \"totals\", \"trafficSource\"]},dtype={'fullVisitorId': 'str', 'date': 'str', 'visitId': 'str'})"
   ]
  },
  {
   "cell_type": "code",
   "execution_count": 41,
   "metadata": {},
   "outputs": [
    {
     "name": "stderr",
     "output_type": "stream",
     "text": [
      "/usr/lib/python3.7/site-packages/pandas/core/frame.py:3790: SettingWithCopyWarning: \n",
      "A value is trying to be set on a copy of a slice from a DataFrame\n",
      "\n",
      "See the caveats in the documentation: http://pandas.pydata.org/pandas-docs/stable/indexing.html#indexing-view-versus-copy\n",
      "  downcast=downcast, **kwargs)\n",
      "/usr/lib/python3.7/site-packages/ipykernel_launcher.py:18: SettingWithCopyWarning: \n",
      "A value is trying to be set on a copy of a slice from a DataFrame.\n",
      "Try using .loc[row_indexer,col_indexer] = value instead\n",
      "\n",
      "See the caveats in the documentation: http://pandas.pydata.org/pandas-docs/stable/indexing.html#indexing-view-versus-copy\n"
     ]
    }
   ],
   "source": [
    "testData = clean_data(testData)"
   ]
  },
  {
   "cell_type": "code",
   "execution_count": 42,
   "metadata": {},
   "outputs": [],
   "source": [
    "testData = add_features(testData)"
   ]
  },
  {
   "cell_type": "code",
   "execution_count": 43,
   "metadata": {},
   "outputs": [],
   "source": [
    "testData = add_ext_data(testData)"
   ]
  },
  {
   "cell_type": "code",
   "execution_count": 44,
   "metadata": {},
   "outputs": [],
   "source": [
    "oldTestData = testData.copy()\n",
    "testData, testIds = delete_ids(testData)"
   ]
  },
  {
   "cell_type": "markdown",
   "metadata": {},
   "source": [
    "Transform obj columns"
   ]
  },
  {
   "cell_type": "code",
   "execution_count": 45,
   "metadata": {},
   "outputs": [],
   "source": [
    "def clearRare(columnname, limit = 1000):\n",
    "    # you may search for rare categories in train, train&test, or just test\n",
    "    #vc = pd.concat([train[columnname], test[columnname]], sort=False).value_counts()\n",
    "    vc = testData[columnname].value_counts()\n",
    "    \n",
    "    common = vc > limit\n",
    "    common = set(common.index[common].values)\n",
    "    \n",
    "    trainData.loc[trainData[columnname].map(lambda x: x not in common), columnname] = 'other'\n",
    "    testData.loc[testData[columnname].map(lambda x: x not in common), columnname] = 'other'"
   ]
  },
  {
   "cell_type": "code",
   "execution_count": 46,
   "metadata": {},
   "outputs": [],
   "source": [
    "clearRare(\"device.browser\")\n",
    "clearRare(\"device.operatingSystem\")\n",
    "clearRare(\"geoNetwork.country\")\n",
    "clearRare(\"geoNetwork.city\")\n",
    "clearRare(\"geoNetwork.networkDomain\")\n",
    "clearRare(\"geoNetwork.region\")\n",
    "clearRare(\"geoNetwork.subContinent\")\n",
    "clearRare(\"geoNetwork.continent\")\n",
    "# clearRare(\"browser_isMobile\")\n",
    "# clearRare(\"browser_deviceCat\")\n",
    "# clearRare(\"browser_os\")\n",
    "clearRare(\"trafficSource.medium\")\n",
    "clearRare(\"trafficSource.referralPath\")\n",
    "clearRare(\"trafficSource.source\")"
   ]
  },
  {
   "cell_type": "code",
   "execution_count": 47,
   "metadata": {},
   "outputs": [],
   "source": [
    "cols = ['geoNetwork.metro','geoNetwork.region', 'geoNetwork.subContinent', 'trafficSource.adwordsClickInfo.slot','trafficSource.adwordsClickInfo.page','trafficSource.adwordsClickInfo.adNetworkType','trafficSource.keyword','trafficSource.adContent','trafficSource.campaign','browser_isMobile', 'browser_deviceCat', 'browser_os']\n",
    "# cols = ['browser_isMobile', 'browser_deviceCat', 'browser_os']\n",
    "trainData.drop(cols,axis=1,inplace=True)\n",
    "testData.drop(cols,axis=1,inplace=True)\n"
   ]
  },
  {
   "cell_type": "code",
   "execution_count": 48,
   "metadata": {},
   "outputs": [],
   "source": [
    "def get_obj_col(df):\n",
    "    obj_cols=[] \n",
    "    num_cols=[]\n",
    "    for col in df.columns:\n",
    "        if df[col].dtype == 'object':\n",
    "            obj_cols.append(col)\n",
    "        else:\n",
    "            num_cols.append(col)\n",
    "    return obj_cols, num_cols\n",
    "\n"
   ]
  },
  {
   "cell_type": "code",
   "execution_count": 49,
   "metadata": {},
   "outputs": [],
   "source": [
    "obj_cols, num_cols = get_obj_col(trainData)\n",
    "full_columns = obj_cols + num_cols"
   ]
  },
  {
   "cell_type": "code",
   "execution_count": 50,
   "metadata": {},
   "outputs": [],
   "source": [
    "def labelEncode(dfTrainSeries, dfTestSeries):\n",
    "    from sklearn import preprocessing\n",
    "    encoder = preprocessing.LabelEncoder()\n",
    "    encoder.fit(list(dfTrainSeries.values.astype('str'))+list(dfTestSeries.values.astype('str')))\n",
    "    return encoder.transform(list(dfTrainSeries.values.astype('str'))), encoder.transform(list(dfTestSeries.values.astype('str')))"
   ]
  },
  {
   "cell_type": "code",
   "execution_count": null,
   "metadata": {},
   "outputs": [
    {
     "name": "stdout",
     "output_type": "stream",
     "text": [
      "Starting Encode Process on  channelGrouping\n",
      "Starting Encode Process on  device.browser\n",
      "Starting Encode Process on  device.deviceCategory\n",
      "Starting Encode Process on  device.operatingSystem\n",
      "Starting Encode Process on  geoNetwork.city\n",
      "Starting Encode Process on  geoNetwork.continent\n",
      "Starting Encode Process on  geoNetwork.country\n",
      "Starting Encode Process on  geoNetwork.networkDomain\n",
      "Starting Encode Process on  trafficSource.medium\n",
      "Starting Encode Process on  trafficSource.referralPath\n"
     ]
    }
   ],
   "source": [
    "for c in obj_cols:\n",
    "    print(\"Starting Encode Process on \", c)\n",
    "    trainData[c], testData[c] = labelEncode(trainData[c], testData[c])"
   ]
  },
  {
   "cell_type": "code",
   "execution_count": null,
   "metadata": {},
   "outputs": [],
   "source": [
    "Y_trainData = np.log1p(trainData['totals.transactionRevenue'])"
   ]
  },
  {
   "cell_type": "code",
   "execution_count": null,
   "metadata": {},
   "outputs": [],
   "source": [
    "new_train = trainData.drop(['totals.transactionRevenue'],axis=1)"
   ]
  },
  {
   "cell_type": "code",
   "execution_count": null,
   "metadata": {},
   "outputs": [],
   "source": [
    "import lightgbm as lgb\n",
    "from sklearn.model_selection import TimeSeriesSplit, KFold\n",
    "from sklearn.metrics import mean_squared_error"
   ]
  },
  {
   "cell_type": "code",
   "execution_count": null,
   "metadata": {},
   "outputs": [],
   "source": [
    "params = {'num_leaves': 300,\n",
    "         'min_data_in_leaf': 30, \n",
    "         'objective':'regression',\n",
    "         'max_depth': -1,\n",
    "         'learning_rate': 0.005,\n",
    "         \"min_child_samples\": 20,\n",
    "         \"boosting\": \"gbdt\",\n",
    "         \"feature_fraction\": 0.9,\n",
    "         \"bagging_freq\": 1,\n",
    "         \"bagging_fraction\": 0.8 ,\n",
    "         \"bagging_seed\": 11,\n",
    "         \"metric\": 'rmse',\n",
    "         \"lambda_l1\": 1,\n",
    "         \"verbosity\": 1}\n",
    "n_fold = 10\n",
    "folds = KFold(n_splits=n_fold, shuffle=False, random_state=42)\n",
    "model = lgb.LGBMRegressor(**params, n_estimators = 20000, nthread = 4, n_jobs = -1)"
   ]
  },
  {
   "cell_type": "code",
   "execution_count": null,
   "metadata": {},
   "outputs": [],
   "source": [
    "def train_model(train_index, test_index):\n",
    "    X_train, X_valid = new_train.iloc[train_index], new_train.iloc[test_index]\n",
    "    y_train, y_valid = Y_trainData.iloc[train_index], Y_trainData.iloc[test_index]\n",
    "    \n",
    "\n",
    "    model.fit(X_train, y_train, eval_set=[(X_train, y_train), (X_valid, y_valid)], eval_metric='rmse',verbose=500, early_stopping_rounds=100)\n",
    "    \n",
    "    y_pred = model.predict(testData, num_iteration=model.best_iteration_)\n",
    "    prediction += y_pred\n",
    "    return prediction"
   ]
  },
  {
   "cell_type": "code",
   "execution_count": null,
   "metadata": {},
   "outputs": [],
   "source": [
    "prediction = np.zeros(testData.shape[0])\n",
    "\n",
    "for fold_n, (train_index, test_index) in enumerate(folds.split(new_train)):\n",
    "    print('Fold:', fold_n)\n",
    "    prediction = train_model(train_index, test_index, prediction)\n",
    "    \n",
    "prediction /= n_fold"
   ]
  },
  {
   "cell_type": "code",
   "execution_count": null,
   "metadata": {},
   "outputs": [],
   "source": [
    "submission = oldTestData[['fullVisitorId']].copy()\n",
    "submission.loc[:, 'PredictedLogRevenue'] = prediction\n",
    "submission[\"PredictedLogRevenue\"] = submission[\"PredictedLogRevenue\"].apply(lambda x : 0.0 if x < 0 else x)\n",
    "submission[\"PredictedLogRevenue\"] = submission[\"PredictedLogRevenue\"].fillna(0.0)\n",
    "grouped_test = submission[['fullVisitorId', 'PredictedLogRevenue']].groupby('fullVisitorId').sum().reset_index()\n",
    "grouped_test.to_csv('lgb2.csv',index=False)"
   ]
  },
  {
   "cell_type": "markdown",
   "metadata": {},
   "source": [
    "7. Do a permutation test to determine whether your model really benefits from each input variable you use.   In particular, one at a time, for each relevant input variable, permute the value of this variable and see how they impact the accuracy of the results.  Run enough permutations per variable to establish a p-value of how good your predictions of log of sum of transactions per user are.  You can use whatever metric you wish to score your model (like mean absolute error)."
   ]
  },
  {
   "cell_type": "code",
   "execution_count": null,
   "metadata": {},
   "outputs": [],
   "source": [
    "# df_train['pageviews'] = np.random.permutation(df_train['pageviews'])\n",
    "different_rmse_ptest = []\n",
    "# new_df['fullVisitorId'] = oldTrainData['fullVisitorId']\n",
    "for colum in num_cols:\n",
    "    print(\"For the variable \" + str(colum) + \":\")\n",
    "    lst = []\n",
    "    for i in range(1,4,1):\n",
    "        new_train[colum] = np.random.permutation(new_train[colum])\n",
    "        print(\"running\",i)    \n",
    "        fold_n = 1\n",
    "        for fold_n, (train_index, test_index) in enumerate(folds.split(new_train)):\n",
    "            X_train, X_valid = new_train.iloc[train_index], new_train.iloc[test_index]\n",
    "            y_train, y_valid = Y_trainData.iloc[train_index], Y_trainData.iloc[test_index]\n",
    "\n",
    "            \n",
    "            model.fit(X_train, y_train, eval_set=[(X_train, y_train), (X_valid, y_valid)], eval_metric='rmse',verbose=500, early_stopping_rounds=100)\n",
    "\n",
    "            y_pred = model.predict(new_train, num_iteration=model.best_iteration_)\n",
    "            p_val = model.predict(X_valid, num_iteration=model.best_iteration_)\n",
    "            x_validation = X_valid.copy()\n",
    "\n",
    "        p_val[p_val < 0] = 0\n",
    "        \n",
    "        \n",
    "        df_prediction_final = pd.DataFrame({\"fullVisitorId\": X_valid[\"fullVisitorId\"].values})\n",
    "        df_prediction_final[\"transactionRevenue\"] = y_valid.values\n",
    "        df_prediction_final[\"PredictedRevenue\"] = np.expm1(p_val)\n",
    "        df_prediction_final = df_prediction_final.groupby(\"fullVisitorId\")[\"transactionRevenue\", \"PredictedRevenue\"].sum().reset_index()\n",
    "        \n",
    "        lst.append(np.sqrt(metrics.mean_squared_error(np.log1p(df_prediction_final[\"transactionRevenue\"].values), np.log1p(df_prediction_final[\"PredictedRevenue\"].values))))\n",
    "    lst = np.array(lst)\n",
    "    print(lst.mean())\n",
    "    different_rmse_ptest.append(lst.mean())\n"
   ]
  },
  {
   "cell_type": "code",
   "execution_count": 1,
   "metadata": {},
   "outputs": [
    {
     "name": "stdout",
     "output_type": "stream",
     "text": [
      "2.3200876120078\n"
     ]
    }
   ],
   "source": [
    "print(lst.mean())"
   ]
  },
  {
   "cell_type": "markdown",
   "metadata": {},
   "source": [
    "TESTING OTHER MODELS"
   ]
  },
  {
   "cell_type": "code",
   "execution_count": null,
   "metadata": {},
   "outputs": [],
   "source": [
    "import xgboost as xgb\n",
    "from bayes_opt import BayesianOptimization\n",
    "from sklearn.metrics import mean_squared_error"
   ]
  },
  {
   "cell_type": "code",
   "execution_count": null,
   "metadata": {},
   "outputs": [],
   "source": [
    "X_train, X_valid, y_train, y_valid = train_test_split(new_train, Y_newTrain, test_size = 0.25)"
   ]
  },
  {
   "cell_type": "code",
   "execution_count": null,
   "metadata": {},
   "outputs": [],
   "source": [
    "dtrain = xgb.DMatrix(X_train, label=y_train)\n",
    "dtest = xgb.DMatrix(X_valid)"
   ]
  },
  {
   "cell_type": "code",
   "execution_count": null,
   "metadata": {},
   "outputs": [],
   "source": [
    "def evaluate(max_depth, gamma, colsample_bytree):\n",
    "    params = {'eval_metric': 'rmse',\n",
    "              'max_depth': int(max_depth),\n",
    "              'subsample': 0.6,\n",
    "              'eta': 0.1,\n",
    "              'gamma': gamma,\n",
    "              'colsample_bytree': colsample_bytree}\n",
    "    result = xgb.cv(params, dtrain, num_boost_round=100, nfold=3)    \n",
    "    \n",
    "    return -1.0 * result['test-rmse-mean'].iloc[-1]"
   ]
  },
  {
   "cell_type": "code",
   "execution_count": null,
   "metadata": {},
   "outputs": [],
   "source": [
    "xgb_with_bo = BayesianOptimization(evaluate, {'max_depth': (3, 6), \n",
    "                                             'gamma': (0, 1),\n",
    "                                             'colsample_bytree': (0.3, 0.9)})\n",
    "\n",
    "xgb_with_bo.maximize(init_points=3, n_iter=5, acq='ei')"
   ]
  },
  {
   "cell_type": "code",
   "execution_count": null,
   "metadata": {},
   "outputs": [],
   "source": [
    "final_model_params = xgb_with_bo.res['max']['max_params']\n",
    "final_model_params['max_depth'] = int(final_model_params['max_depth'])"
   ]
  },
  {
   "cell_type": "code",
   "execution_count": null,
   "metadata": {},
   "outputs": [],
   "source": [
    "model_xgb = xgb.train(final_model_params, dtrain, num_boost_round=250)"
   ]
  },
  {
   "cell_type": "code",
   "execution_count": null,
   "metadata": {},
   "outputs": [],
   "source": [
    "new_testdf_1 = xgb.DMatrix(new_testdf)"
   ]
  },
  {
   "cell_type": "code",
   "execution_count": null,
   "metadata": {},
   "outputs": [],
   "source": [
    "y_pred = model_xgb.predict(new_testdf_1)"
   ]
  },
  {
   "cell_type": "code",
   "execution_count": null,
   "metadata": {},
   "outputs": [],
   "source": [
    "sampleData = pd.read_csv('sample_submission.csv')\n",
    "sampleData['fullVisitorId'] = y_pred\n",
    "sampleData.to_csv('sample_new_result_xgb_bayesian_v2.csv', index=False)"
   ]
  }
 ],
 "metadata": {
  "accelerator": "GPU",
  "colab": {
   "collapsed_sections": [],
   "name": "hw3.ipynb",
   "provenance": [],
   "version": "0.3.2"
  },
  "kernelspec": {
   "display_name": "Python 2",
   "language": "python",
   "name": "python2"
  },
  "language_info": {
   "codemirror_mode": {
    "name": "ipython",
    "version": 2
   },
   "file_extension": ".py",
   "mimetype": "text/x-python",
   "name": "python",
   "nbconvert_exporter": "python",
   "pygments_lexer": "ipython2",
   "version": "2.7.15rc1"
  }
 },
 "nbformat": 4,
 "nbformat_minor": 1
}
