{
 "cells": [
  {
   "cell_type": "code",
   "execution_count": 1,
   "metadata": {},
   "outputs": [],
   "source": [
    "import pandas as pd\n",
    "import numpy as np"
   ]
  },
  {
   "cell_type": "code",
   "execution_count": 2,
   "metadata": {},
   "outputs": [],
   "source": [
    "# def JSONParser(col):\n",
    "#     import json\n",
    "#     dictFromJSON = json.loads(col)\n",
    "#     return dictFromJSON\n",
    "\n",
    "# def appendDictsToDF(dictList, df):\n",
    "#     for obj in dictList:\n",
    "#         df[sorted(df[obj][0].keys())] = df[obj].apply(pandas.Series)\n",
    "#     return df"
   ]
  },
  {
   "cell_type": "code",
   "execution_count": 3,
   "metadata": {},
   "outputs": [],
   "source": [
    "# trainData = pd.read_csv('train.csv', converters={\"device\": JSONParser, \"geoNetwork\": JSONParser, \"totals\": JSONParser, \"trafficSource\": JSONParser})\n",
    "# trainData = appendDictsToDF([\"device\", \"geoNetwork\", \"totals\", \"trafficSource\"])\n",
    "# trainData.head()"
   ]
  },
  {
   "cell_type": "code",
   "execution_count": 4,
   "metadata": {},
   "outputs": [
    {
     "name": "stderr",
     "output_type": "stream",
     "text": [
      "/home/shraddha/.local/lib/python2.7/site-packages/IPython/core/interactiveshell.py:2714: DtypeWarning: Columns (3) have mixed types. Specify dtype option on import or set low_memory=False.\n",
      "  interactivity=interactivity, compiler=compiler, result=result)\n"
     ]
    },
    {
     "data": {
      "text/plain": [
       "(903653, 12)"
      ]
     },
     "execution_count": 4,
     "metadata": {},
     "output_type": "execute_result"
    }
   ],
   "source": [
    "trainData = pd.read_csv('train.csv')\n",
    "trainData.head()\n",
    "trainData.shape"
   ]
  },
  {
   "cell_type": "code",
   "execution_count": 6,
   "metadata": {},
   "outputs": [],
   "source": [
    "def flatten_column(trainData, columnName):\n",
    "    print columnName\n",
    "    trainData1 = pd.DataFrame(trainData.pop(columnName).apply(pd.io.json.loads).values.tolist(), index=trainData.index)\n",
    "    trainData = trainData.join(trainData1)\n",
    "    return trainData"
   ]
  },
  {
   "cell_type": "code",
   "execution_count": 7,
   "metadata": {},
   "outputs": [],
   "source": [
    "# def flatten_data(trainData):\n",
    "#     '''\n",
    "#     The given dataset has columns device, geoNetwork, totals and trafficSource \n",
    "#     which have json data. We need to flatten the dataset.\n",
    "#     '''\n",
    "#     trainData = flatten_column\n",
    "#     return trainData"
   ]
  },
  {
   "cell_type": "code",
   "execution_count": null,
   "metadata": {},
   "outputs": [
    {
     "name": "stdout",
     "output_type": "stream",
     "text": [
      "device\n"
     ]
    }
   ],
   "source": [
    "columns = [\"device\", \"geoNetwork\", \"totals\", \"trafficSource\"]\n",
    "\n",
    "for col in columns:\n",
    "    trainData = flatten_column(trainData, col)\n",
    "\n",
    "trainData.head()"
   ]
  },
  {
   "cell_type": "code",
   "execution_count": null,
   "metadata": {},
   "outputs": [],
   "source": []
  },
  {
   "cell_type": "code",
   "execution_count": null,
   "metadata": {},
   "outputs": [],
   "source": []
  },
  {
   "cell_type": "raw",
   "metadata": {},
   "source": []
  }
 ],
 "metadata": {
  "kernelspec": {
   "display_name": "Python 2",
   "language": "python",
   "name": "python2"
  },
  "language_info": {
   "codemirror_mode": {
    "name": "ipython",
    "version": 2
   },
   "file_extension": ".py",
   "mimetype": "text/x-python",
   "name": "python",
   "nbconvert_exporter": "python",
   "pygments_lexer": "ipython2",
   "version": "2.7.15rc1"
  }
 },
 "nbformat": 4,
 "nbformat_minor": 2
}
