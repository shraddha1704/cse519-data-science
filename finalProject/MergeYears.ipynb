{
 "cells": [
  {
   "cell_type": "code",
   "execution_count": null,
   "metadata": {},
   "outputs": [],
   "source": [
    "from datetime import datetime\n",
    "import pandas as pd\n",
    "import re\n",
    "import numpy as np\n",
    "import pandas as pd\n",
    "from sklearn.cluster import KMeans\n",
    "from sklearn.linear_model import LinearRegression\n",
    "import matplotlib.pyplot as plt\n",
    "import matplotlib.axes as Axes\n",
    "import seaborn as sns\n",
    "from sklearn.model_selection import train_test_split\n",
    "from sklearn.metrics import mean_squared_error\n",
    "from math import sqrt\n",
    "from sklearn.ensemble import RandomForestRegressor\n",
    "import json\n",
    "from pandas.io.json import json_normalize\n",
    "import matplotlib as matplotlib\n",
    "import warnings\n",
    "warnings.filterwarnings('ignore')\n",
    "from scipy import stats"
   ]
  },
  {
   "cell_type": "code",
   "execution_count": 16,
   "metadata": {},
   "outputs": [],
   "source": [
    "data1415 = pd.read_csv('C:/Users/Shubham/Desktop/DSF/Project/notices14-15.tsv', sep='\\t')\n",
    "data1516 = pd.read_csv('C:/Users/Shubham/Desktop/DSF/Project/notices15-16.tsv', sep='\\t')\n",
    "data1617 = pd.read_csv('C:/Users/Shubham/Desktop/DSF/Project/notices16-17.csv')\n",
    "data1718 = pd.read_csv('C:/Users/Shubham/Desktop/DSF/Project/notices17-18.csv')"
   ]
  },
  {
   "cell_type": "code",
   "execution_count": 65,
   "metadata": {},
   "outputs": [
    {
     "data": {
      "text/plain": [
       "Index(['Unnamed: 0', 'state', 'id', 'link', 'county', 'newspaper', 'date',\n",
       "       'content', 'notice_id'],\n",
       "      dtype='object')"
      ]
     },
     "execution_count": 65,
     "metadata": {},
     "output_type": "execute_result"
    }
   ],
   "source": [
    "data1415.columns"
   ]
  },
  {
   "cell_type": "code",
   "execution_count": 66,
   "metadata": {},
   "outputs": [
    {
     "data": {
      "text/plain": [
       "Index(['Unnamed: 0', 'state', 'id', 'link', 'county', 'newspaper', 'date',\n",
       "       'content', 'notice_id'],\n",
       "      dtype='object')"
      ]
     },
     "execution_count": 66,
     "metadata": {},
     "output_type": "execute_result"
    }
   ],
   "source": [
    "data1516.columns"
   ]
  },
  {
   "cell_type": "code",
   "execution_count": 67,
   "metadata": {},
   "outputs": [
    {
     "data": {
      "text/plain": [
       "Index(['state', 'id', 'link', 'county', 'newspaper', 'date', 'content',\n",
       "       'notice_id'],\n",
       "      dtype='object')"
      ]
     },
     "execution_count": 67,
     "metadata": {},
     "output_type": "execute_result"
    }
   ],
   "source": [
    "data1617.columns"
   ]
  },
  {
   "cell_type": "code",
   "execution_count": 68,
   "metadata": {},
   "outputs": [
    {
     "data": {
      "text/plain": [
       "Index(['state', 'id', 'link', 'county', 'newspaper', 'date', 'content',\n",
       "       'notice_id'],\n",
       "      dtype='object')"
      ]
     },
     "execution_count": 68,
     "metadata": {},
     "output_type": "execute_result"
    }
   ],
   "source": [
    "data1718.columns"
   ]
  },
  {
   "cell_type": "code",
   "execution_count": 69,
   "metadata": {},
   "outputs": [],
   "source": [
    "data1415.drop(['Unnamed: 0'], axis=1, inplace=True)\n",
    "data1516.drop(['Unnamed: 0'], axis=1, inplace=True)\n",
    "data1617.drop(['Unnamed: 0'], axis=1, inplace=True)\n",
    "data1718.drop(['Unnamed: 0'], axis=1, inplace=True)"
   ]
  },
  {
   "cell_type": "code",
   "execution_count": 70,
   "metadata": {},
   "outputs": [],
   "source": [
    "concat = pd.concat([data1415, data1516, data1617, data1718])"
   ]
  },
  {
   "cell_type": "code",
   "execution_count": 113,
   "metadata": {},
   "outputs": [
    {
     "data": {
      "text/html": [
       "<div>\n",
       "<style scoped>\n",
       "    .dataframe tbody tr th:only-of-type {\n",
       "        vertical-align: middle;\n",
       "    }\n",
       "\n",
       "    .dataframe tbody tr th {\n",
       "        vertical-align: top;\n",
       "    }\n",
       "\n",
       "    .dataframe thead th {\n",
       "        text-align: right;\n",
       "    }\n",
       "</style>\n",
       "<table border=\"1\" class=\"dataframe\">\n",
       "  <thead>\n",
       "    <tr style=\"text-align: right;\">\n",
       "      <th></th>\n",
       "      <th>state</th>\n",
       "      <th>id</th>\n",
       "      <th>link</th>\n",
       "      <th>county</th>\n",
       "      <th>newspaper</th>\n",
       "      <th>date</th>\n",
       "      <th>content</th>\n",
       "      <th>notice_id</th>\n",
       "    </tr>\n",
       "  </thead>\n",
       "  <tbody>\n",
       "    <tr>\n",
       "      <th>0</th>\n",
       "      <td>Wyoming</td>\n",
       "      <td>3492/12012017_24466836</td>\n",
       "      <td>http://www.publicnoticeads.com/WY/search/view....</td>\n",
       "      <td>Carbon</td>\n",
       "      <td>Rawlins Daily Times</td>\n",
       "      <td>2017/12/01</td>\n",
       "      <td>PUBLIC NOTICE The Wyoming Public Service Commi...</td>\n",
       "      <td>24466836.0</td>\n",
       "    </tr>\n",
       "    <tr>\n",
       "      <th>1</th>\n",
       "      <td>Mississippi</td>\n",
       "      <td>691/12012017_24467322</td>\n",
       "      <td>http://www.publicnoticeads.com/MS/search/view....</td>\n",
       "      <td>Jackson</td>\n",
       "      <td>Mississippi Press</td>\n",
       "      <td>2017/12/01</td>\n",
       "      <td>PROCLAMATION I, MOORE BEY, whose address is 34...</td>\n",
       "      <td>24467322.0</td>\n",
       "    </tr>\n",
       "    <tr>\n",
       "      <th>2</th>\n",
       "      <td>Arizona</td>\n",
       "      <td>72/11292017_24463039</td>\n",
       "      <td>http://www.publicnoticeads.com/AZ/search/view....</td>\n",
       "      <td>Yavapai</td>\n",
       "      <td>Verde Independent/Camp Verde Bugle</td>\n",
       "      <td>2017/12/01</td>\n",
       "      <td>DCS'S NOTICE OF HEARING ON MOTION FOR TERMINAT...</td>\n",
       "      <td>24463039.0</td>\n",
       "    </tr>\n",
       "    <tr>\n",
       "      <th>3</th>\n",
       "      <td>Arkansas</td>\n",
       "      <td>3141/12012017_24467983</td>\n",
       "      <td>http://www.publicnoticeads.com/AR/search/view....</td>\n",
       "      <td>Cross</td>\n",
       "      <td>Wynne Progress</td>\n",
       "      <td>2017/12/01</td>\n",
       "      <td>IN THE CIRCUIT COURT OF CROSS COUNTY, ARKANSAS...</td>\n",
       "      <td>24467983.0</td>\n",
       "    </tr>\n",
       "    <tr>\n",
       "      <th>4</th>\n",
       "      <td>New Mexico</td>\n",
       "      <td>3057/12012017_24467350</td>\n",
       "      <td>http://www.publicnoticeads.com/NM/search/view....</td>\n",
       "      <td>Dona Ana</td>\n",
       "      <td>Las Cruces Sun-News</td>\n",
       "      <td>2017/12/01</td>\n",
       "      <td>Bids can be downloaded from our website, www.g...</td>\n",
       "      <td>24467350.0</td>\n",
       "    </tr>\n",
       "  </tbody>\n",
       "</table>\n",
       "</div>"
      ],
      "text/plain": [
       "         state                      id  \\\n",
       "0      Wyoming  3492/12012017_24466836   \n",
       "1  Mississippi   691/12012017_24467322   \n",
       "2      Arizona    72/11292017_24463039   \n",
       "3     Arkansas  3141/12012017_24467983   \n",
       "4   New Mexico  3057/12012017_24467350   \n",
       "\n",
       "                                                link    county  \\\n",
       "0  http://www.publicnoticeads.com/WY/search/view....    Carbon   \n",
       "1  http://www.publicnoticeads.com/MS/search/view....   Jackson   \n",
       "2  http://www.publicnoticeads.com/AZ/search/view....   Yavapai   \n",
       "3  http://www.publicnoticeads.com/AR/search/view....     Cross   \n",
       "4  http://www.publicnoticeads.com/NM/search/view....  Dona Ana   \n",
       "\n",
       "                            newspaper        date  \\\n",
       "0                 Rawlins Daily Times  2017/12/01   \n",
       "1                   Mississippi Press  2017/12/01   \n",
       "2  Verde Independent/Camp Verde Bugle  2017/12/01   \n",
       "3                      Wynne Progress  2017/12/01   \n",
       "4                 Las Cruces Sun-News  2017/12/01   \n",
       "\n",
       "                                             content   notice_id  \n",
       "0  PUBLIC NOTICE The Wyoming Public Service Commi...  24466836.0  \n",
       "1  PROCLAMATION I, MOORE BEY, whose address is 34...  24467322.0  \n",
       "2  DCS'S NOTICE OF HEARING ON MOTION FOR TERMINAT...  24463039.0  \n",
       "3  IN THE CIRCUIT COURT OF CROSS COUNTY, ARKANSAS...  24467983.0  \n",
       "4  Bids can be downloaded from our website, www.g...  24467350.0  "
      ]
     },
     "execution_count": 113,
     "metadata": {},
     "output_type": "execute_result"
    }
   ],
   "source": [
    "data1718.head()"
   ]
  },
  {
   "cell_type": "code",
   "execution_count": 72,
   "metadata": {},
   "outputs": [],
   "source": [
    "concat.to_csv('C:/Users/Shubham/Desktop/DSF/Project/notices14-18.csv')"
   ]
  },
  {
   "cell_type": "code",
   "execution_count": 73,
   "metadata": {},
   "outputs": [],
   "source": [
    "data = concat.dropna()\n",
    "\n",
    "data['category'] = ''\n",
    "\n",
    "data['new_category'] = ''\n",
    "\n",
    "data['content_lower'] = data['content'].apply(lambda x: x.lower())"
   ]
  },
  {
   "cell_type": "code",
   "execution_count": 74,
   "metadata": {},
   "outputs": [
    {
     "name": "stdout",
     "output_type": "stream",
     "text": [
      "3     747417\n",
      "2     680902\n",
      "1     671823\n",
      "4     357896\n",
      "0     262949\n",
      "5     162986\n",
      "6      91605\n",
      "7      24237\n",
      "8       9817\n",
      "9       5189\n",
      "10      3780\n",
      "11      2380\n",
      "12      1709\n",
      "13      1311\n",
      "14       884\n",
      "15       560\n",
      "16       457\n",
      "18       375\n",
      "17       319\n",
      "19       209\n",
      "20       104\n",
      "28        98\n",
      "21        94\n",
      "23        56\n",
      "22        39\n",
      "26        17\n",
      "24        15\n",
      "25        11\n",
      "27         5\n",
      "29         3\n",
      "32         1\n",
      "35         1\n",
      "34         1\n",
      "36         1\n",
      "31         1\n",
      "30         1\n",
      "37         1\n",
      "Name: count_tags, dtype: int64\n"
     ]
    }
   ],
   "source": [
    "def assign_category(content):\n",
    "\n",
    "\tcontent_set = set(re.split('\\W', content))\n",
    "\n",
    "\tlook_for_tokens = {\n",
    "\t\t'1-Bids': set(['bid', 'bids', 'bidder']),\n",
    "\t\t'2-Auctions': set(['sale', 'sales', 'sell', 'sold', 'selling', 'auction', 'auctions']),\n",
    "\t\t'3-Foreclosure': set(['foreclose', 'foreclosed', 'foreclosing', 'foreclosure', 'foreclosures', \\\n",
    "\t\t\t'forfeit', 'forfeiting', 'forfeits', 'forefeiture', 'forefeitures', 'sized', 'seizes', 'seizure']),\n",
    "\t\t'4-Probate': set(['probate', 'death', 'deceased']),\n",
    "\t\t'5-Heir': set(['heir', 'heirs']),\n",
    "\t\t# '1-Summon_2-Appear': set(['appear', 'appearance']),\n",
    "\t\t'Creditors': set(['creditors']),\n",
    "\t\t# 'Estate': set(['estate', 'estates']),\n",
    "\t\t'Divorce': set(['divorce', 'divorced']),\n",
    "\t\t# 'Claim': set(['claim', 'claims', 'claimer', 'claimers']),\n",
    "\t\t'Government': set(['government']),\n",
    "\t\t# 'Tax': set(['tax', 'taxes']),\n",
    "\t\t# 'Debt': set(['debt', 'debts', 'indebt', 'indebted']),\n",
    "\t\t'Owed': set(['owe', 'owed']),\n",
    "\t\t'Adoption': set(['adoption']),\n",
    "\t\t'Condemnations': set(['condemn', 'condemnation']),\n",
    "\t\t'Delinquent': set(['delinquent']),\n",
    "\t\t# 'Plaintiff': set(['plaintiff', 'plaintiffs']),\n",
    "\t\t# 'Defendent': set(['defendant', 'defendants', 'defendent', 'defendents']),\n",
    "\t\t'Marriage': set(['Marriage']),\n",
    "\t\t'1-Summon': set(['summon', 'summons']),\n",
    "\t\t# 'Lien': set(['lien', 'liens']),\n",
    "\t\t'Construction': set(['construction', 'constructions']),\n",
    "\t\t'Maintenance': set(['maintenance']),\n",
    "\t\t'School': set(['school']),\n",
    "\t\t'Board': set(['board']),\n",
    "\t\t'Council': set(['council']),\n",
    "\t\t# 'Contract': set(['contract', 'contracts']),\n",
    "\t\t'Contractor': set(['contractor', 'contractors']),\n",
    "\t\t'Proposal': set(['proposal', 'proposals']),\n",
    "\t\t'2-Dependency': set(['dependency']),\n",
    "\t\t'Parenting': set(['parenting', 'parent', 'parents', 'children', 'child', 'guardianship', 'mother', 'father', 'parental']),\n",
    "\t\t'Minor': set(['minor', 'minors']),\n",
    "\t\t# 'Petition': set(['petition', 'petitions']),\n",
    "\t\t'1-Election': set(['election', 'elections']),\n",
    "\t\t'Meeting': set(['meeting', 'meetings']),\n",
    "\t\t'Citation': set(['citation', 'citations']),\n",
    "\t\t'License': set(['license', 'licenses']),\n",
    "\t\t'Vehicle': set(['vehicle', 'vehicles', 'automotive', 'automotives', 'vehicle(s)', 'autombobile', 'automobiles']),\n",
    "\t\t'Furniture': set(['furniture']),\n",
    "\t\t'Abandoned': set(['abandoned']),\n",
    "\t\t'Liquor': set(['liquor', 'alchohol', 'liquors', 'liquor', 'liquors', 'alchoholic', 'beverage', 'beverages']),\n",
    "\t\t'Storage': set(['storage']),\n",
    "\t\t'RFP/Q': set(['rfp', '(rfp)', 'rfq', '(rfq)']),\n",
    "\t\t'Purchase': set(['purchase', 'purchasing', 'purchases']),\n",
    "\t\t# 'Default': set(['default'])\n",
    "\t}\n",
    "\n",
    "\tlook_for_phrases = {\n",
    "\t  \t'1-AOO': set(['articles of organization']),\n",
    "\t  \t'1-AOI': set(['articles of incorporation']),\n",
    "\t  \t'1-AOD': set(['articles of dissolution']),\n",
    "\t  \t'1-AOA': set(['articles of amendment']),\n",
    "\t  \t'1-Change of Name': set(['change of name']),\n",
    "\t  \t'Meeting2': set(['will meet on']),\n",
    "\t  \t'Public Hearing': set(['public hearing']),\n",
    "\t  \t'Interested Persons': set(['interested person', 'interested persons']),\n",
    "\t  \t'Delinquent Taxes': set(['delinquent tax', 'delinquent taxes']),\n",
    "\t  \t'Public? Storage Unit/Space': set(['storage unit', 'storage space', 'storage units', 'storage spaces', 'public storage']),\n",
    "\t  \t# 'Public Meeting': set(['public meeting']),\n",
    "\t  \t'Substitute Trustee': set(['substitute trustee']),\n",
    "\t  \t'3-Default': set(['default has occurred', 'you are in default']),\n",
    "\t  \t'3-Trust Property': set(['trust property']),\n",
    "\t  \t'3-Child Safety': set(['child safety', 'child protection', 'children safety', 'children protection'])\n",
    "\n",
    "\t}\n",
    "\n",
    "\tcategories = []\n",
    "\n",
    "\tfor cat in look_for_tokens:\n",
    "\t\tfinds = content_set.intersection(look_for_tokens[cat])\n",
    "\t\tif len(finds)>0:\n",
    "\t\t\tcategories.append(cat)\n",
    "\t\t\n",
    "\tfor cat in look_for_phrases: \n",
    "\t\tfor phrase in look_for_phrases[cat]:\n",
    "\t\t\tif phrase in content:\n",
    "\t\t\t\tcategories.append(cat)\n",
    "\n",
    "\treturn categories\n",
    "\n",
    "start_time = datetime.now()\n",
    "\n",
    "data['new_category'] = data['content_lower'].apply(assign_category)\n",
    "\n",
    "end_time = datetime.now()\n",
    "\n",
    "data['count_tags'] = data['new_category'].apply(lambda x: len(x))\n",
    "\n",
    "data['combinations'] = data['new_category'].apply(lambda x: '_'.join(sorted(x)))\n",
    "\n",
    "def clean_up_combinations(combination):\n",
    "\tif (('Bids' in combination) or ('Auctions' in combination)) and ('Default' in combination):\n",
    "\t\treturn '1-Bids_2-Auctions_3-Property_4-Foreclosure_5-Default'\n",
    "\t# elif '1-Bids_2-Auctions_3-Foreclosure' in combination:\n",
    "\t# \treturn '1-Bids_2-Auctions_3-Property-4-Foreclosure'\n",
    "\telif (('Bids' in combination) or ('Auctions' in combination)) and ('Foreclosure' in combination):\n",
    "\t\treturn '1-Bids_2-Auctions_3-Property-4-Foreclosure'\n",
    "\telif (('Bids' in combination) or ('Auctions' in combination)) and (('Trust Property' in combination) or ('Substitute Trustee' in combination)):\n",
    "\t\treturn '1-Bids_2-Auctions_3-Property' \n",
    "\telif (('Bids' in combination) or ('Auctions' in combination)) and ('Vehicle' in combination):\n",
    "\t\treturn '1-Bids_2-Auctions_3-Vehicle'\n",
    "\telif (('Bids' in combination) or ('Auctions' in combination)) and ('Furniture' in combination):\n",
    "\t\treturn '1-Bids_2-Auctions_3-Furniture'\n",
    "\telif ('Bids' in combination) and (('Proposal' in combination) or ('Construction' in combination) or ('Contractor' in combination)):\n",
    "\t\treturn '1-Bids_2-Procuring Services'\n",
    "\telif ('Bids' in combination) and ('Purchase' in combination):\n",
    "\t\treturn '1-Bids_2-Seeking Purchase'\n",
    "\telif (('Bids' in combination) and ('Auctions' in combination)):\n",
    "\t\treturn '1-Bids_2-Auctions_3-Other'\n",
    "\telif ('Bids' in combination):\n",
    "\t\treturn '1-Bids_2-Auctions_3-Other'\n",
    "\telif ('Auctions' in combination):\n",
    "\t\treturn '1-Bids_2-Auctions_3-Other'\n",
    "\telif 'Probate' in combination:\n",
    "\t\treturn '1-Summon_2-Probate'\n",
    "\telif ('Child Safety' in combination) and ('Dependency'):\n",
    "\t\treturn '1-Summon_2-Dependency_3-Child Safety'\n",
    "\telif ('Divorce' in combination) and ('Summon' in combination or 'Parenting' in combination or 'Minor' in combination):\n",
    "\t\treturn '1-Summon_2-Divorce'\n",
    "\telif ('Dependency' in combination) and (('Child Safety' not in combination) and ('Summon' in combination) or ('Appear' in combination)):\n",
    "\t\treturn '1-Summon_2-Dependency'\n",
    "\telif ('Summon' in combination) and ('Foreclosure' in combination):\n",
    "\t\treturn '1-Summon_2-Foreclosure'\n",
    "\telif ('Summon' in combination):\n",
    "\t\treturn '1-Summon_3-Other'\n",
    "\telif ('Public Hearing' in combination):\n",
    "\t\treturn '1-Public Hearing'\n",
    "\telif '1-AOO' in combination:\n",
    "\t\treturn '1-AOO'\n",
    "\telif '1-AOA' in combination:\n",
    "\t\treturn '1-AOA'\n",
    "\telif '1-AOD' in combination:\n",
    "\t\treturn '1-AOD'\n",
    "\telif '1-AOI' in combination:\n",
    "\t\treturn '1-AOI'\n",
    "\telif 'Meeting' in combination:\n",
    "\t\treturn '1-Public Meeting'\n",
    "\telif 'Change of Name' in combination:\n",
    "\t\treturn '1-Change of Name'\n",
    "\telif 'Parenting' in combination:\n",
    "\t\tif 'Adoption' in combination:\n",
    "\t\t\treturn '1-Parenting_2-Adoption'\n",
    "\t\telse:\n",
    "\t\t\treturn '1-Parenting'\n",
    "\telif 'RFP/Q' in combination or 'Proposal' in combination:\n",
    "\t\treturn '1-Bids_2-Procuring Services'\n",
    "\telif 'Divorce' in combination:\n",
    "\t\treturn '1-Summon_2-Divorce'\n",
    "\telif 'Foreclosure' in combination:\n",
    "\t\treturn '1-Summon_2-Foreclosure'\n",
    "\telse:\n",
    "\t\treturn combination\n",
    "\n",
    "data['combinations_clean'] = data['combinations'].apply(clean_up_combinations)\n",
    "\n",
    "print(data['count_tags'].value_counts())\n",
    "\n",
    "val_counts = data['combinations_clean'].value_counts()"
   ]
  },
  {
   "cell_type": "code",
   "execution_count": 30,
   "metadata": {},
   "outputs": [
    {
     "data": {
      "text/plain": [
       "Index(['state', 'id', 'link', 'county', 'newspaper', 'date', 'content',\n",
       "       'notice_id', 'new_category', 'content_lower', 'category', 'count_tags',\n",
       "       'combinations', 'combinations_clean'],\n",
       "      dtype='object')"
      ]
     },
     "execution_count": 30,
     "metadata": {},
     "output_type": "execute_result"
    }
   ],
   "source": [
    "data.columns"
   ]
  },
  {
   "cell_type": "code",
   "execution_count": 32,
   "metadata": {},
   "outputs": [],
   "source": [
    "data.to_csv('C:/Users/Shubham/Desktop/DSF/Project/with_cat_1618.csv')"
   ]
  },
  {
   "cell_type": "code",
   "execution_count": 76,
   "metadata": {},
   "outputs": [],
   "source": [
    "drop_con = data.drop(['content','content_lower'],axis=1)"
   ]
  },
  {
   "cell_type": "code",
   "execution_count": 156,
   "metadata": {},
   "outputs": [],
   "source": [
    "drop_con = drop_con[drop_con['date']!=\"Printed On:\"]"
   ]
  },
  {
   "cell_type": "code",
   "execution_count": null,
   "metadata": {},
   "outputs": [],
   "source": [
    "drop_con['date'] = pd.to_datetime(drop_con['date'])\n",
    "drop_con['year'] = drop_con.date.apply(lambda t: t.year)\n",
    "drop_con['month'] = drop_con.date.apply(lambda t: t.month)\n",
    "drop_con['day'] = drop_con.date.apply(lambda t: t.weekday())"
   ]
  },
  {
   "cell_type": "code",
   "execution_count": 166,
   "metadata": {},
   "outputs": [
    {
     "data": {
      "text/plain": [
       "262860"
      ]
     },
     "execution_count": 166,
     "metadata": {},
     "output_type": "execute_result"
    }
   ],
   "source": [
    "len(drop_con[drop_con['combinations_clean']==''])"
   ]
  },
  {
   "cell_type": "code",
   "execution_count": 161,
   "metadata": {},
   "outputs": [],
   "source": [
    "drop_con.to_csv('C:/Users/Shubham/Desktop/DSF/Project/with_cat_1418.csv')"
   ]
  },
  {
   "cell_type": "code",
   "execution_count": 142,
   "metadata": {},
   "outputs": [],
   "source": [
    "arizona1418 = drop_con[drop_con['state']=='Arizona']"
   ]
  },
  {
   "cell_type": "code",
   "execution_count": 143,
   "metadata": {},
   "outputs": [],
   "source": [
    "arizona1418 = arizona1418[arizona1418['date']!=\"Printed On:\"]"
   ]
  },
  {
   "cell_type": "code",
   "execution_count": 147,
   "metadata": {},
   "outputs": [
    {
     "name": "stdout",
     "output_type": "stream",
     "text": [
      "Size before: 918073\n",
      "Size after: 918073\n"
     ]
    }
   ],
   "source": [
    "print(\"Size before: %d\" %len(arizona1418))\n",
    "arizona1418['combinations_clean'].replace('', 'Others', inplace=True)\n",
    "print(\"Size after: %d\" %len(arizona1418))"
   ]
  },
  {
   "cell_type": "code",
   "execution_count": 154,
   "metadata": {},
   "outputs": [],
   "source": [
    "arizona1418.to_csv('C:/Users/Shubham/Desktop/DSF/Project/arizona1418_cleaned.csv')"
   ]
  },
  {
   "cell_type": "code",
   "execution_count": 103,
   "metadata": {},
   "outputs": [],
   "source": [
    "arizona1418 = pd.read_csv('C:/Users/Shubham/Desktop/DSF/Project/arizona1418_cleaned.csv', parse_dates=[\"date\"])"
   ]
  },
  {
   "cell_type": "code",
   "execution_count": 149,
   "metadata": {},
   "outputs": [],
   "source": [
    "arizona1418['date'] = pd.to_datetime(arizona1418['date'])"
   ]
  },
  {
   "cell_type": "code",
   "execution_count": 150,
   "metadata": {},
   "outputs": [],
   "source": [
    "arizona1418['year'] = arizona1418.date.apply(lambda t: t.year)\n",
    "arizona1418['month'] = arizona1418.date.apply(lambda t: t.month)\n",
    "arizona1418['day'] = arizona1418.date.apply(lambda t: t.weekday())"
   ]
  },
  {
   "cell_type": "code",
   "execution_count": 61,
   "metadata": {},
   "outputs": [],
   "source": [
    "plot_data = arizona1618[arizona1618['combinations_clean'].isin(['1-Bids_2-Auctions_3-Property_4-Foreclosure',\n",
    "                                                           '1-Bids_2-Auctions_3-Property_4-Foreclosure_5-Default',\n",
    "                                                           '1-Summon_2-Foreclosure'])]"
   ]
  },
  {
   "cell_type": "code",
   "execution_count": 146,
   "metadata": {},
   "outputs": [],
   "source": [
    "arizona1418 = arizona1418[arizona1418['combinations_clean']!=\"\"]"
   ]
  },
  {
   "cell_type": "code",
   "execution_count": 145,
   "metadata": {},
   "outputs": [
    {
     "data": {
      "text/plain": [
       "23933"
      ]
     },
     "execution_count": 145,
     "metadata": {},
     "output_type": "execute_result"
    }
   ],
   "source": [
    "len(arizona1418[arizona1418['combinations_clean']==\"\"])"
   ]
  },
  {
   "cell_type": "code",
   "execution_count": 153,
   "metadata": {},
   "outputs": [
    {
     "data": {
      "text/plain": [
       "state                         object\n",
       "id                            object\n",
       "link                          object\n",
       "county                        object\n",
       "newspaper                     object\n",
       "date                  datetime64[ns]\n",
       "notice_id                     object\n",
       "category                      object\n",
       "new_category                  object\n",
       "count_tags                     int64\n",
       "combinations                  object\n",
       "combinations_clean            object\n",
       "year                           int64\n",
       "month                          int64\n",
       "day                            int64\n",
       "dtype: object"
      ]
     },
     "execution_count": 153,
     "metadata": {},
     "output_type": "execute_result"
    }
   ],
   "source": [
    "arizona1418.dtypes"
   ]
  },
  {
   "cell_type": "code",
   "execution_count": null,
   "metadata": {},
   "outputs": [],
   "source": []
  }
 ],
 "metadata": {
  "kernelspec": {
   "display_name": "Python 3",
   "language": "python",
   "name": "python3"
  },
  "language_info": {
   "codemirror_mode": {
    "name": "ipython",
    "version": 3
   },
   "file_extension": ".py",
   "mimetype": "text/x-python",
   "name": "python",
   "nbconvert_exporter": "python",
   "pygments_lexer": "ipython3",
   "version": "3.7.0"
  }
 },
 "nbformat": 4,
 "nbformat_minor": 2
}
