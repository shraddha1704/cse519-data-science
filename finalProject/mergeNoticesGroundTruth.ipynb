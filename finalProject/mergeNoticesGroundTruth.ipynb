{
  "nbformat": 4,
  "nbformat_minor": 0,
  "metadata": {
    "colab": {
      "name": "mergeNoticesGroundTruth.ipynb",
      "version": "0.3.2",
      "provenance": []
    },
    "kernelspec": {
      "name": "python3",
      "display_name": "Python 3"
    }
  },
  "cells": [
    {
      "metadata": {
        "id": "MLkA9IH7DrnT",
        "colab_type": "code",
        "colab": {}
      },
      "cell_type": "code",
      "source": [
        "import pandas as pd\n",
        "import numpy as np"
      ],
      "execution_count": 0,
      "outputs": []
    },
    {
      "metadata": {
        "id": "6apVcMFiFmhv",
        "colab_type": "code",
        "colab": {}
      },
      "cell_type": "code",
      "source": [
        "df = pd.read_csv('newmexico1218.csv')"
      ],
      "execution_count": 0,
      "outputs": []
    },
    {
      "metadata": {
        "id": "Q-jA-o7wFrCF",
        "colab_type": "code",
        "colab": {}
      },
      "cell_type": "code",
      "source": [
        "gd = pd.read_csv('nm_gd_13_17.csv')"
      ],
      "execution_count": 0,
      "outputs": []
    },
    {
      "metadata": {
        "id": "vs9WZ1YtUFpy",
        "colab_type": "code",
        "outputId": "fc64eb1f-9857-4f94-e8a7-e4779b673ffa",
        "colab": {
          "base_uri": "https://localhost:8080/",
          "height": 34
        }
      },
      "cell_type": "code",
      "source": [
        "df.year.unique()"
      ],
      "execution_count": 0,
      "outputs": [
        {
          "output_type": "execute_result",
          "data": {
            "text/plain": [
              "array([2012, 2013, 2014, 2015, 2016, 2017, 2018])"
            ]
          },
          "metadata": {
            "tags": []
          },
          "execution_count": 33
        }
      ]
    },
    {
      "metadata": {
        "id": "Zu7NFS12FxK8",
        "colab_type": "code",
        "colab": {}
      },
      "cell_type": "code",
      "source": [
        "gd['county'] = np.where(gd['county'] == 'Bernali', 'Bernalillo', gd['county'])\n",
        "gd['county'] = np.where(gd['county'] == 'Curry C', 'Curry', gd['county'])\n",
        "gd['county'] = np.where(gd['county'] == 'Dona An ', 'Dona Ana', gd['county'])\n",
        "gd['county'] = np.where(gd['county'] == 'Eddy Co', 'Eddy', gd['county'])\n",
        "gd['county'] = np.where(gd['county'] == 'Grant C', 'Grant', gd['county'])\n",
        "gd['county'] = np.where(gd['county'] == 'Dyer Co', 'Dyer', gd['county'])\n",
        "gd['county'] = np.where(gd['county'] == 'Lea Cou', 'Lea', gd['county'])\n",
        "gd['county'] = np.where(gd['county'] == 'Los Ala ', 'Los Alamos', gd['county'])\n",
        "gd['county'] = np.where(gd['county'] == 'Luna Co ', 'Luna', gd['county'])\n",
        "gd['county'] = np.where(gd['county'] == 'Otero C ', 'Otero', gd['county'])\n",
        "gd['county'] = np.where(gd['county'] == 'Quay Co', 'Quay', gd['county'])\n",
        "gd['county'] = np.where(gd['county'] == 'Rio Arr ', 'Rio Arriba', gd['county'])\n",
        "gd['county'] = np.where(gd['county'] == 'Rooseve', 'Roosevelt', gd['county'])\n",
        "gd['county'] = np.where(gd['county'] == 'San Jua', 'San Juan', gd['county'])\n",
        "gd['county'] = np.where(gd['county'] == 'San Mig', 'San Miguel', gd['county'])\n",
        "gd['county'] = np.where(gd['county'] == 'Sandova', 'Sandoval', gd['county'])\n",
        "gd['county'] = np.where(gd['county'] == 'Santa F', 'Santa Fe', gd['county'])\n",
        "gd['county'] = np.where(gd['county'] == 'Taos Co ', 'Taos', gd['county'])\n",
        "gd['county'] = np.where(gd['county'] == 'Torranc ', 'Torrance', gd['county'])\n",
        "gd['county'] = np.where(gd['county'] == 'Valenci', 'Valencia', gd['county'])"
      ],
      "execution_count": 0,
      "outputs": []
    },
    {
      "metadata": {
        "id": "EnDNFfV5F7y-",
        "colab_type": "code",
        "outputId": "39952008-6eef-4b1d-f6d2-2bd2281bda46",
        "colab": {
          "base_uri": "https://localhost:8080/",
          "height": 54
        }
      },
      "cell_type": "code",
      "source": [
        "str(sorted(gd.county.unique()))"
      ],
      "execution_count": 0,
      "outputs": [
        {
          "output_type": "execute_result",
          "data": {
            "text/plain": [
              "\"['Bernalillo', 'Chaves', 'Colfax', 'Curry', 'Dona An', 'Eddy', 'Grant', 'Lea', 'Lincoln', 'Los Ala', 'Luna Co', 'McKinle', 'Mora Co', 'Otero C', 'Quay', 'Rio Arr', 'Roosevelt', 'San Juan', 'San Miguel', 'Sandoval', 'Santa Fe', 'Sierra', 'Socorro', 'Taos Co', 'Torranc', 'Valencia']\""
            ]
          },
          "metadata": {
            "tags": []
          },
          "execution_count": 37
        }
      ]
    },
    {
      "metadata": {
        "id": "qRMGln1ZF_f3",
        "colab_type": "code",
        "outputId": "c39758de-0244-4c14-ae67-ad4314a8f287",
        "colab": {
          "base_uri": "https://localhost:8080/",
          "height": 54
        }
      },
      "cell_type": "code",
      "source": [
        "str(sorted(df.county.unique()))"
      ],
      "execution_count": 0,
      "outputs": [
        {
          "output_type": "execute_result",
          "data": {
            "text/plain": [
              "\"['Bernalillo', 'Chaves', 'Cibola', 'Colfax', 'Curry', 'De Baca', 'Dona Ana', 'Eddy', 'Grant', 'Guadalupe', 'Hidalgo', 'Lea', 'Lincoln', 'Los Alamos', 'Luna', 'Otero', 'Quay', 'Rio Arriba', 'Roosevelt', 'San Juan', 'San Miguel', 'Sandoval', 'Santa Fe', 'Sierra', 'Socorro', 'Taos', 'Torrance', 'Union', 'Valencia']\""
            ]
          },
          "metadata": {
            "tags": []
          },
          "execution_count": 38
        }
      ]
    },
    {
      "metadata": {
        "id": "J81A4dXOGBRN",
        "colab_type": "code",
        "colab": {}
      },
      "cell_type": "code",
      "source": [
        "new_df = pd.merge(df, gd, on=['county','year'])"
      ],
      "execution_count": 0,
      "outputs": []
    },
    {
      "metadata": {
        "id": "8GbDeh2WGwxe",
        "colab_type": "code",
        "colab": {}
      },
      "cell_type": "code",
      "source": [
        "new_df.drop(['Unnamed: 0_x', 'Unnamed: 0_y'],axis=1,inplace=True)"
      ],
      "execution_count": 0,
      "outputs": []
    },
    {
      "metadata": {
        "id": "QcTq0gWHG4xP",
        "colab_type": "code",
        "outputId": "e58e868c-9853-4f01-cb94-59188a5420c8",
        "colab": {
          "base_uri": "https://localhost:8080/",
          "height": 491
        }
      },
      "cell_type": "code",
      "source": [
        "new_df.head()"
      ],
      "execution_count": 0,
      "outputs": [
        {
          "output_type": "execute_result",
          "data": {
            "text/html": [
              "<div>\n",
              "<style scoped>\n",
              "    .dataframe tbody tr th:only-of-type {\n",
              "        vertical-align: middle;\n",
              "    }\n",
              "\n",
              "    .dataframe tbody tr th {\n",
              "        vertical-align: top;\n",
              "    }\n",
              "\n",
              "    .dataframe thead th {\n",
              "        text-align: right;\n",
              "    }\n",
              "</style>\n",
              "<table border=\"1\" class=\"dataframe\">\n",
              "  <thead>\n",
              "    <tr style=\"text-align: right;\">\n",
              "      <th></th>\n",
              "      <th>Unnamed: 0.1_x</th>\n",
              "      <th>state</th>\n",
              "      <th>id</th>\n",
              "      <th>link</th>\n",
              "      <th>county</th>\n",
              "      <th>newspaper</th>\n",
              "      <th>date</th>\n",
              "      <th>notice_id</th>\n",
              "      <th>new_category</th>\n",
              "      <th>count_tags</th>\n",
              "      <th>...</th>\n",
              "      <th>DOMESTIC_MIG</th>\n",
              "      <th>NET_MIG</th>\n",
              "      <th>RESIDUAL</th>\n",
              "      <th>GQ_ESTIMATES</th>\n",
              "      <th>R_birth</th>\n",
              "      <th>R_death</th>\n",
              "      <th>R_NATURAL_INC</th>\n",
              "      <th>R_INTERNATIONAL_MIG</th>\n",
              "      <th>R_DOMESTIC_MIG</th>\n",
              "      <th>R_NET_MIG</th>\n",
              "    </tr>\n",
              "  </thead>\n",
              "  <tbody>\n",
              "    <tr>\n",
              "      <th>0</th>\n",
              "      <td>524</td>\n",
              "      <td>New Mexico</td>\n",
              "      <td>3036/1282013_19841325</td>\n",
              "      <td>http://www.publicnoticeads.com/NM/search/view....</td>\n",
              "      <td>Eddy</td>\n",
              "      <td>Carlsbad Current-Argus</td>\n",
              "      <td>2013-01-08 00:00:00</td>\n",
              "      <td>19841325.0</td>\n",
              "      <td>['1-Bids', '2-Auctions', '3-Foreclosure', '4-P...</td>\n",
              "      <td>6</td>\n",
              "      <td>...</td>\n",
              "      <td>817.0</td>\n",
              "      <td>837.0</td>\n",
              "      <td>14.0</td>\n",
              "      <td>995.0</td>\n",
              "      <td>16.309294</td>\n",
              "      <td>10.684772</td>\n",
              "      <td>5.624522</td>\n",
              "      <td>0.364047</td>\n",
              "      <td>14.871309</td>\n",
              "      <td>15.235356</td>\n",
              "    </tr>\n",
              "    <tr>\n",
              "      <th>1</th>\n",
              "      <td>532</td>\n",
              "      <td>New Mexico</td>\n",
              "      <td>3036/1282013_19841322</td>\n",
              "      <td>http://www.publicnoticeads.com/NM/search/view....</td>\n",
              "      <td>Eddy</td>\n",
              "      <td>Carlsbad Current-Argus</td>\n",
              "      <td>2013-01-08 00:00:00</td>\n",
              "      <td>19841322.0</td>\n",
              "      <td>['1-Bids', '2-Auctions', '3-Foreclosure', 'Pur...</td>\n",
              "      <td>4</td>\n",
              "      <td>...</td>\n",
              "      <td>817.0</td>\n",
              "      <td>837.0</td>\n",
              "      <td>14.0</td>\n",
              "      <td>995.0</td>\n",
              "      <td>16.309294</td>\n",
              "      <td>10.684772</td>\n",
              "      <td>5.624522</td>\n",
              "      <td>0.364047</td>\n",
              "      <td>14.871309</td>\n",
              "      <td>15.235356</td>\n",
              "    </tr>\n",
              "    <tr>\n",
              "      <th>2</th>\n",
              "      <td>556</td>\n",
              "      <td>New Mexico</td>\n",
              "      <td>3036/1142013_19794915</td>\n",
              "      <td>http://www.publicnoticeads.com/NM/search/view....</td>\n",
              "      <td>Eddy</td>\n",
              "      <td>Carlsbad Current-Argus</td>\n",
              "      <td>2013-01-08 00:00:00</td>\n",
              "      <td>19794915.0</td>\n",
              "      <td>['1-Bids', '2-Auctions', '3-Foreclosure', 'Pur...</td>\n",
              "      <td>4</td>\n",
              "      <td>...</td>\n",
              "      <td>817.0</td>\n",
              "      <td>837.0</td>\n",
              "      <td>14.0</td>\n",
              "      <td>995.0</td>\n",
              "      <td>16.309294</td>\n",
              "      <td>10.684772</td>\n",
              "      <td>5.624522</td>\n",
              "      <td>0.364047</td>\n",
              "      <td>14.871309</td>\n",
              "      <td>15.235356</td>\n",
              "    </tr>\n",
              "    <tr>\n",
              "      <th>3</th>\n",
              "      <td>564</td>\n",
              "      <td>New Mexico</td>\n",
              "      <td>3036/1142013_19794916</td>\n",
              "      <td>http://www.publicnoticeads.com/NM/search/view....</td>\n",
              "      <td>Eddy</td>\n",
              "      <td>Carlsbad Current-Argus</td>\n",
              "      <td>2013-01-08 00:00:00</td>\n",
              "      <td>19794916.0</td>\n",
              "      <td>['4-Probate', 'Creditors']</td>\n",
              "      <td>2</td>\n",
              "      <td>...</td>\n",
              "      <td>817.0</td>\n",
              "      <td>837.0</td>\n",
              "      <td>14.0</td>\n",
              "      <td>995.0</td>\n",
              "      <td>16.309294</td>\n",
              "      <td>10.684772</td>\n",
              "      <td>5.624522</td>\n",
              "      <td>0.364047</td>\n",
              "      <td>14.871309</td>\n",
              "      <td>15.235356</td>\n",
              "    </tr>\n",
              "    <tr>\n",
              "      <th>4</th>\n",
              "      <td>572</td>\n",
              "      <td>New Mexico</td>\n",
              "      <td>3036/1142013_19794909</td>\n",
              "      <td>http://www.publicnoticeads.com/NM/search/view....</td>\n",
              "      <td>Eddy</td>\n",
              "      <td>Carlsbad Current-Argus</td>\n",
              "      <td>2013-01-08 00:00:00</td>\n",
              "      <td>19794909.0</td>\n",
              "      <td>['4-Probate', 'Creditors']</td>\n",
              "      <td>2</td>\n",
              "      <td>...</td>\n",
              "      <td>817.0</td>\n",
              "      <td>837.0</td>\n",
              "      <td>14.0</td>\n",
              "      <td>995.0</td>\n",
              "      <td>16.309294</td>\n",
              "      <td>10.684772</td>\n",
              "      <td>5.624522</td>\n",
              "      <td>0.364047</td>\n",
              "      <td>14.871309</td>\n",
              "      <td>15.235356</td>\n",
              "    </tr>\n",
              "  </tbody>\n",
              "</table>\n",
              "<p>5 rows × 152 columns</p>\n",
              "</div>"
            ],
            "text/plain": [
              "   Unnamed: 0.1_x       state                     id  \\\n",
              "0             524  New Mexico  3036/1282013_19841325   \n",
              "1             532  New Mexico  3036/1282013_19841322   \n",
              "2             556  New Mexico  3036/1142013_19794915   \n",
              "3             564  New Mexico  3036/1142013_19794916   \n",
              "4             572  New Mexico  3036/1142013_19794909   \n",
              "\n",
              "                                                link county  \\\n",
              "0  http://www.publicnoticeads.com/NM/search/view....   Eddy   \n",
              "1  http://www.publicnoticeads.com/NM/search/view....   Eddy   \n",
              "2  http://www.publicnoticeads.com/NM/search/view....   Eddy   \n",
              "3  http://www.publicnoticeads.com/NM/search/view....   Eddy   \n",
              "4  http://www.publicnoticeads.com/NM/search/view....   Eddy   \n",
              "\n",
              "                newspaper                 date   notice_id  \\\n",
              "0  Carlsbad Current-Argus  2013-01-08 00:00:00  19841325.0   \n",
              "1  Carlsbad Current-Argus  2013-01-08 00:00:00  19841322.0   \n",
              "2  Carlsbad Current-Argus  2013-01-08 00:00:00  19794915.0   \n",
              "3  Carlsbad Current-Argus  2013-01-08 00:00:00  19794916.0   \n",
              "4  Carlsbad Current-Argus  2013-01-08 00:00:00  19794909.0   \n",
              "\n",
              "                                        new_category  count_tags    ...      \\\n",
              "0  ['1-Bids', '2-Auctions', '3-Foreclosure', '4-P...           6    ...       \n",
              "1  ['1-Bids', '2-Auctions', '3-Foreclosure', 'Pur...           4    ...       \n",
              "2  ['1-Bids', '2-Auctions', '3-Foreclosure', 'Pur...           4    ...       \n",
              "3                         ['4-Probate', 'Creditors']           2    ...       \n",
              "4                         ['4-Probate', 'Creditors']           2    ...       \n",
              "\n",
              "  DOMESTIC_MIG NET_MIG  RESIDUAL  GQ_ESTIMATES    R_birth    R_death  \\\n",
              "0        817.0   837.0      14.0         995.0  16.309294  10.684772   \n",
              "1        817.0   837.0      14.0         995.0  16.309294  10.684772   \n",
              "2        817.0   837.0      14.0         995.0  16.309294  10.684772   \n",
              "3        817.0   837.0      14.0         995.0  16.309294  10.684772   \n",
              "4        817.0   837.0      14.0         995.0  16.309294  10.684772   \n",
              "\n",
              "   R_NATURAL_INC R_INTERNATIONAL_MIG R_DOMESTIC_MIG  R_NET_MIG  \n",
              "0       5.624522            0.364047      14.871309  15.235356  \n",
              "1       5.624522            0.364047      14.871309  15.235356  \n",
              "2       5.624522            0.364047      14.871309  15.235356  \n",
              "3       5.624522            0.364047      14.871309  15.235356  \n",
              "4       5.624522            0.364047      14.871309  15.235356  \n",
              "\n",
              "[5 rows x 152 columns]"
            ]
          },
          "metadata": {
            "tags": []
          },
          "execution_count": 42
        }
      ]
    },
    {
      "metadata": {
        "id": "VlwxJuE1HAEr",
        "colab_type": "code",
        "colab": {}
      },
      "cell_type": "code",
      "source": [
        "# new_df.to_csv('nv_12_17_merged.csv')"
      ],
      "execution_count": 0,
      "outputs": []
    },
    {
      "metadata": {
        "id": "MVtUlQkbHpq9",
        "colab_type": "code",
        "colab": {}
      },
      "cell_type": "code",
      "source": [
        "list(new_df.isnull().any())"
      ],
      "execution_count": 0,
      "outputs": []
    },
    {
      "metadata": {
        "id": "KKmG0ujdIcdS",
        "colab_type": "code",
        "colab": {}
      },
      "cell_type": "code",
      "source": [
        "list(new_df.columns)"
      ],
      "execution_count": 0,
      "outputs": []
    },
    {
      "metadata": {
        "id": "IjUpC9wlN4Np",
        "colab_type": "code",
        "colab": {}
      },
      "cell_type": "code",
      "source": [
        "cols = [\n",
        " 'link',\n",
        " 'new_category',\n",
        " 'Area_name',\n",
        " 'State_y',\n",
        " 'Area_Name_x',\n",
        " 'CI90LBAll_2016',\n",
        " 'CI90UBALL_2016',\n",
        " 'PCTPOVALL_2016',\n",
        " 'CI90LBALLP_2016',\n",
        " 'CI90UBALLP_2016',\n",
        " 'CI90LB017_2016',\n",
        " 'CI90UB017_2016',\n",
        " 'PCTPOV017_2016',\n",
        " 'CI90LB017P_2016',\n",
        " 'CI90UB017P_2016',\n",
        " 'POV517_2016',\n",
        " 'CI90LB517_2016',\n",
        " 'CI90UB517_2016',\n",
        " 'PCTPOV517_2016',\n",
        " 'CI90LB517P_2016',\n",
        " 'CI90UB517P_2016',\n",
        " 'CI90LBINC_2016',\n",
        " 'CI90UBINC_2016',\n",
        " 'Less than a high school diploma, 1970',\n",
        " 'High school diploma only, 1970',\n",
        " 'Some college (1-3 years), 1970',\n",
        " 'Four years of college or higher, 1970',\n",
        " 'Percent of adults with less than a high school diploma, 1970',\n",
        " 'Percent of adults with a high school diploma only, 1970',\n",
        " 'Percent of adults completing some college (1-3 years), 1970',\n",
        " 'Percent of adults completing four years of college or higher, 1970',\n",
        " 'Less than a high school diploma, 1980',\n",
        " 'High school diploma only, 1980',\n",
        " 'Some college (1-3 years), 1980',\n",
        " 'Four years of college or higher, 1980',\n",
        " 'Percent of adults with less than a high school diploma, 1980',\n",
        " 'Percent of adults with a high school diploma only, 1980',\n",
        " 'Percent of adults completing some college (1-3 years), 1980',\n",
        " 'Percent of adults completing four years of college or higher, 1980',\n",
        " 'Less than a high school diploma, 1990',\n",
        " 'High school diploma only, 1990',\n",
        " \"Some college or associate's degree, 1990\",\n",
        " \"Bachelor's degree or higher, 1990\",\n",
        " 'Percent of adults with less than a high school diploma, 1990',\n",
        " 'Percent of adults with a high school diploma only, 1990',\n",
        " \"Percent of adults completing some college or associate's degree, 1990\",\n",
        " \"Percent of adults with a bachelor's degree or higher, 1990\",\n",
        " 'Less than a high school diploma, 2000',\n",
        " 'High school diploma only, 2000',\n",
        " \"Some college or associate's degree, 2000\",\n",
        " \"Bachelor's degree or higher, 2000\",\n",
        " 'Percent of adults with less than a high school diploma, 2000',\n",
        " 'Percent of adults with a high school diploma only, 2000',\n",
        " \"Percent of adults completing some college or associate's degree, 2000\",\n",
        " \"Percent of adults with a bachelor's degree or higher, 2000\",\n",
        " 'cnty',\n",
        " 'main_protestant10',\n",
        " 'evan_protestant10',\n",
        " 'catholic10',\n",
        " 'med_house_val0509',\n",
        " 'med_house_income0509',\n",
        " 'below_poverty0509',\n",
        " 'log_med_house_val0509',\n",
        " 'log_med_house_income0509',\n",
        " 'high_school0509',\n",
        " 'bac0509',\n",
        " 'grad0509',\n",
        " 'married0509',\n",
        " 'divorced0509',\n",
        " 'separated0509',\n",
        " 'other_language0509',\n",
        " 'foreign_born0509',\n",
        " 'same_sex0509',\n",
        "#  'ls09_10_avg',\n",
        " 'elev']\n",
        "\n",
        "new_df.drop(cols, axis=1, inplace=True)"
      ],
      "execution_count": 0,
      "outputs": []
    },
    {
      "metadata": {
        "id": "WdCrlPHlFGcd",
        "colab_type": "code",
        "colab": {}
      },
      "cell_type": "code",
      "source": [
        "new_df.to_csv('nv_12_17_merged.csv')"
      ],
      "execution_count": 0,
      "outputs": []
    }
  ]
}